{
 "cells": [
  {
   "cell_type": "markdown",
   "metadata": {
    "id": "DtNBZFHO3M7n"
   },
   "source": [
    "# **Automatidata project**\n",
    "**Course 5 - Regression Analysis: Simplify complex data relationships**"
   ]
  },
  {
   "cell_type": "markdown",
   "metadata": {
    "id": "kaOj1equPMAb"
   },
   "source": [
    "The data consulting firm Automatidata has recently hired you as the newest member of their data analytics team. Their newest client, the NYC Taxi and Limousine Commission (New York City TLC), wants the Automatidata team to build a multiple linear regression model to predict taxi fares using existing data that was collected over the course of a year. The team is getting closer to completing the project, having completed an initial plan of action, initial Python coding work, EDA, and A/B testing.\n",
    "\n",
    "The Automatidata team has reviewed the results of the A/B testing. Now it’s time to work on predicting the taxi fare amounts. You’ve impressed your Automatidata colleagues with your hard work and attention to detail. The data team believes that you are ready to build the regression model and update the client New York City TLC about your progress.\n",
    "\n",
    "A notebook was structured and prepared to help you in this project. Please complete the following questions."
   ]
  },
  {
   "cell_type": "markdown",
   "metadata": {
    "id": "rgSbVJvomcVa"
   },
   "source": [
    "# Course 5 End-of-course project: Build a multiple linear regression model\n",
    "\n",
    "In this activity, you will build a multiple linear regression model. As you've learned, multiple linear regression helps you estimate the linear relationship between one continuous dependent variable and two or more independent variables. For data science professionals, this is a useful skill because it allows you to consider more than one variable against the variable you're measuring against. This opens the door for much more thorough and flexible analysis to be completed. \n",
    "\n",
    "Completing this activity will help you practice planning out and buidling a multiple linear regression model based on a specific business need. The structure of this activity is designed to emulate the proposals you will likely be assigned in your career as a data professional. Completing this activity will help prepare you for those career moments.\n",
    "<br/>\n",
    "\n",
    "**The purpose** of this project is to demostrate knowledge of EDA and a multiple linear regression model\n",
    "\n",
    "**The goal** is to build a multiple linear regression model and evaluate the model\n",
    "<br/>\n",
    "*This activity has three parts:*\n",
    "\n",
    "**Part 1:** EDA & Checking Model Assumptions\n",
    "* What are some purposes of EDA before constructing a multiple linear regression model?\n",
    "\n",
    "**Part 2:** Model Building and evaluation\n",
    "* What resources do you find yourself using as you complete this stage?\n",
    "\n",
    "**Part 3:** Interpreting Model Results\n",
    "\n",
    "* What key insights emerged from your model(s)?\n",
    "\n",
    "* What business recommendations do you propose based on the models built?"
   ]
  },
  {
   "cell_type": "markdown",
   "metadata": {
    "id": "7KFOyc3JPSiN"
   },
   "source": [
    "# Build a multiple linear regression model"
   ]
  },
  {
   "cell_type": "markdown",
   "metadata": {
    "id": "3UCHQclzQDUL"
   },
   "source": [
    "<img src=\"images/Pace.png\" width=\"100\" height=\"100\" align=left>\n",
    "\n",
    "# **PACE stages**\n"
   ]
  },
  {
   "cell_type": "markdown",
   "metadata": {},
   "source": [
    "Throughout these project notebooks, you'll see references to the problem-solving framework PACE. The following notebook components are labeled with the respective PACE stage: Plan, Analyze, Construct, and Execute."
   ]
  },
  {
   "cell_type": "markdown",
   "metadata": {
    "id": "F5O5cx_qQJmX"
   },
   "source": [
    "<img src=\"images/Plan.png\" width=\"100\" height=\"100\" align=left>\n",
    "\n",
    "\n",
    "## PACE: **Plan**\n",
    "\n",
    "Consider the questions in your PACE Strategy Document to reflect on the Plan stage.\n"
   ]
  },
  {
   "cell_type": "markdown",
   "metadata": {
    "id": "D8qYlvkLQsf2"
   },
   "source": [
    "### Task 1. Imports and loading\n",
    "Import the packages that you've learned are needed for building linear regression models."
   ]
  },
  {
   "cell_type": "code",
   "execution_count": 8,
   "metadata": {
    "id": "ccfeg6X6eOVZ"
   },
   "outputs": [],
   "source": [
    "# Imports\n",
    "# Packages for numerics + dataframes\n",
    "import pandas as pd\n",
    "import numpy as np\n",
    "\n",
    "# Packages for visualization\n",
    "import seaborn as sns\n",
    "import matplotlib.pyplot as plt\n",
    "# Packages for date conversions for calculating trip durations\n",
    "from datetime import datetime\n",
    "from datetime import date\n",
    "from datetime import timedelta\n",
    "\n",
    "# Packages for OLS(ordinary least squares), MLR(Multiple linear regression), confusion matrix\n",
    "from sklearn.preprocessing import StandardScaler\n",
    "from sklearn.model_selection import train_test_split\n",
    "import sklearn.metrics as metrics # For confusion matrix\n",
    "from sklearn.linear_model import LinearRegression\n",
    "from sklearn.metrics import mean_absolute_error,r2_score,mean_squared_error"
   ]
  },
  {
   "cell_type": "markdown",
   "metadata": {
    "id": "dhSYPrzQ2lpH"
   },
   "source": [
    "**Note:** `Pandas` is used to load the NYC TLC dataset. As shown in this cell, the dataset has been automatically loaded in for you. You do not need to download the .csv file, or provide more code, in order to access the dataset and proceed with this lab. Please continue with this activity by completing the following instructions."
   ]
  },
  {
   "cell_type": "code",
   "execution_count": 9,
   "metadata": {
    "id": "TyR3sBUYJBO8"
   },
   "outputs": [],
   "source": [
    "# Load dataset into dataframe \n",
    "df=pd.read_csv(\"2017_Yellow_Taxi_Trip_Data.csv\") "
   ]
  },
  {
   "cell_type": "markdown",
   "metadata": {
    "id": "OnrvCSfHUWPv"
   },
   "source": [
    "<img src=\"images/Analyze.png\" width=\"100\" height=\"100\" align=left>\n",
    "\n",
    "## PACE: **Analyze**\n",
    "\n",
    "In this stage, consider the following question where applicable to complete your code response:\n",
    "\n",
    "* What are some purposes of EDA before constructing a multiple linear regression model?\n"
   ]
  },
  {
   "cell_type": "markdown",
   "metadata": {},
   "source": [
    "\n",
    "1.   Outliers and extreme data values can significantly impact linear regression equations. After visualizing data, make a plan for addressing outliers by dropping rows, substituting extreme data with average data, and/or removing data values greater than 3 standard deviations.\n",
    "\n",
    "2.   EDA activities also include identifying missing data to help the analyst make decisions on their exclusion or inclusion by substituting values with data set means, medians, and other similar methods.\n",
    "\n",
    "3.   It's important to check for things like multicollinearity between predictor variables, as well to understand their distributions, as this will help you decide what statistical inferences can be made from the model and which ones cannot.\n",
    "\n",
    "4.  Additionally, it can be useful to engineer new features by multiplying variables together or taking the difference from one variable to another. For example, in this dataset you can create a `duration` variable by subtracting `tpep_dropoff` from `tpep_pickup time`."
   ]
  },
  {
   "cell_type": "markdown",
   "metadata": {
    "id": "rIcDG2e66wt9"
   },
   "source": [
    "### Task 2a. Explore data with EDA\n",
    "\n",
    "Analyze and discover data, looking for correlations, missing data, outliers, and duplicates."
   ]
  },
  {
   "cell_type": "markdown",
   "metadata": {
    "id": "CLpoUCz1277k"
   },
   "source": [
    "Start with `.shape` and `.info()`."
   ]
  },
  {
   "cell_type": "code",
   "execution_count": 10,
   "metadata": {
    "id": "T4Ag-sZhWg6K"
   },
   "outputs": [
    {
     "name": "stdout",
     "output_type": "stream",
     "text": [
      "<class 'pandas.core.frame.DataFrame'>\n",
      "RangeIndex: 22699 entries, 0 to 22698\n",
      "Data columns (total 18 columns):\n",
      " #   Column                 Non-Null Count  Dtype  \n",
      "---  ------                 --------------  -----  \n",
      " 0   Unnamed: 0             22699 non-null  int64  \n",
      " 1   VendorID               22699 non-null  int64  \n",
      " 2   tpep_pickup_datetime   22699 non-null  object \n",
      " 3   tpep_dropoff_datetime  22699 non-null  object \n",
      " 4   passenger_count        22699 non-null  int64  \n",
      " 5   trip_distance          22699 non-null  float64\n",
      " 6   RatecodeID             22699 non-null  int64  \n",
      " 7   store_and_fwd_flag     22699 non-null  object \n",
      " 8   PULocationID           22699 non-null  int64  \n",
      " 9   DOLocationID           22699 non-null  int64  \n",
      " 10  payment_type           22699 non-null  int64  \n",
      " 11  fare_amount            22699 non-null  float64\n",
      " 12  extra                  22699 non-null  float64\n",
      " 13  mta_tax                22699 non-null  float64\n",
      " 14  tip_amount             22699 non-null  float64\n",
      " 15  tolls_amount           22699 non-null  float64\n",
      " 16  improvement_surcharge  22699 non-null  float64\n",
      " 17  total_amount           22699 non-null  float64\n",
      "dtypes: float64(8), int64(7), object(3)\n",
      "memory usage: 3.1+ MB\n"
     ]
    },
    {
     "data": {
      "text/plain": [
       "((22699, 18), None)"
      ]
     },
     "execution_count": 10,
     "metadata": {},
     "output_type": "execute_result"
    }
   ],
   "source": [
    "# Start with `.shape` and `.info()`\n",
    "df.shape,df.info()\n"
   ]
  },
  {
   "cell_type": "markdown",
   "metadata": {
    "id": "SWLHv_h_3Hcf"
   },
   "source": [
    "Check for missing data and duplicates using `.isna()` and `.drop_duplicates()`."
   ]
  },
  {
   "cell_type": "code",
   "execution_count": 11,
   "metadata": {
    "id": "3QZZIxxi3OV3"
   },
   "outputs": [
    {
     "data": {
      "text/plain": [
       "Unnamed: 0               0\n",
       "VendorID                 0\n",
       "tpep_pickup_datetime     0\n",
       "tpep_dropoff_datetime    0\n",
       "passenger_count          0\n",
       "trip_distance            0\n",
       "RatecodeID               0\n",
       "store_and_fwd_flag       0\n",
       "PULocationID             0\n",
       "DOLocationID             0\n",
       "payment_type             0\n",
       "fare_amount              0\n",
       "extra                    0\n",
       "mta_tax                  0\n",
       "tip_amount               0\n",
       "tolls_amount             0\n",
       "improvement_surcharge    0\n",
       "total_amount             0\n",
       "dtype: int64"
      ]
     },
     "execution_count": 11,
     "metadata": {},
     "output_type": "execute_result"
    }
   ],
   "source": [
    "# Check for missing data and duplicates using .isna() and .drop_duplicates()\n",
    "df.isna().sum()"
   ]
  },
  {
   "cell_type": "code",
   "execution_count": 12,
   "metadata": {},
   "outputs": [
    {
     "data": {
      "text/html": [
       "<div>\n",
       "<style scoped>\n",
       "    .dataframe tbody tr th:only-of-type {\n",
       "        vertical-align: middle;\n",
       "    }\n",
       "\n",
       "    .dataframe tbody tr th {\n",
       "        vertical-align: top;\n",
       "    }\n",
       "\n",
       "    .dataframe thead th {\n",
       "        text-align: right;\n",
       "    }\n",
       "</style>\n",
       "<table border=\"1\" class=\"dataframe\">\n",
       "  <thead>\n",
       "    <tr style=\"text-align: right;\">\n",
       "      <th></th>\n",
       "      <th>Unnamed: 0</th>\n",
       "      <th>VendorID</th>\n",
       "      <th>tpep_pickup_datetime</th>\n",
       "      <th>tpep_dropoff_datetime</th>\n",
       "      <th>passenger_count</th>\n",
       "      <th>trip_distance</th>\n",
       "      <th>RatecodeID</th>\n",
       "      <th>store_and_fwd_flag</th>\n",
       "      <th>PULocationID</th>\n",
       "      <th>DOLocationID</th>\n",
       "      <th>payment_type</th>\n",
       "      <th>fare_amount</th>\n",
       "      <th>extra</th>\n",
       "      <th>mta_tax</th>\n",
       "      <th>tip_amount</th>\n",
       "      <th>tolls_amount</th>\n",
       "      <th>improvement_surcharge</th>\n",
       "      <th>total_amount</th>\n",
       "    </tr>\n",
       "  </thead>\n",
       "  <tbody>\n",
       "    <tr>\n",
       "      <th>0</th>\n",
       "      <td>24870114</td>\n",
       "      <td>2</td>\n",
       "      <td>03/25/2017 8:55:43 AM</td>\n",
       "      <td>03/25/2017 9:09:47 AM</td>\n",
       "      <td>6</td>\n",
       "      <td>3.34</td>\n",
       "      <td>1</td>\n",
       "      <td>N</td>\n",
       "      <td>100</td>\n",
       "      <td>231</td>\n",
       "      <td>1</td>\n",
       "      <td>13.0</td>\n",
       "      <td>0.0</td>\n",
       "      <td>0.5</td>\n",
       "      <td>2.76</td>\n",
       "      <td>0.00</td>\n",
       "      <td>0.3</td>\n",
       "      <td>16.56</td>\n",
       "    </tr>\n",
       "    <tr>\n",
       "      <th>1</th>\n",
       "      <td>35634249</td>\n",
       "      <td>1</td>\n",
       "      <td>04/11/2017 2:53:28 PM</td>\n",
       "      <td>04/11/2017 3:19:58 PM</td>\n",
       "      <td>1</td>\n",
       "      <td>1.80</td>\n",
       "      <td>1</td>\n",
       "      <td>N</td>\n",
       "      <td>186</td>\n",
       "      <td>43</td>\n",
       "      <td>1</td>\n",
       "      <td>16.0</td>\n",
       "      <td>0.0</td>\n",
       "      <td>0.5</td>\n",
       "      <td>4.00</td>\n",
       "      <td>0.00</td>\n",
       "      <td>0.3</td>\n",
       "      <td>20.80</td>\n",
       "    </tr>\n",
       "    <tr>\n",
       "      <th>2</th>\n",
       "      <td>106203690</td>\n",
       "      <td>1</td>\n",
       "      <td>12/15/2017 7:26:56 AM</td>\n",
       "      <td>12/15/2017 7:34:08 AM</td>\n",
       "      <td>1</td>\n",
       "      <td>1.00</td>\n",
       "      <td>1</td>\n",
       "      <td>N</td>\n",
       "      <td>262</td>\n",
       "      <td>236</td>\n",
       "      <td>1</td>\n",
       "      <td>6.5</td>\n",
       "      <td>0.0</td>\n",
       "      <td>0.5</td>\n",
       "      <td>1.45</td>\n",
       "      <td>0.00</td>\n",
       "      <td>0.3</td>\n",
       "      <td>8.75</td>\n",
       "    </tr>\n",
       "    <tr>\n",
       "      <th>3</th>\n",
       "      <td>38942136</td>\n",
       "      <td>2</td>\n",
       "      <td>05/07/2017 1:17:59 PM</td>\n",
       "      <td>05/07/2017 1:48:14 PM</td>\n",
       "      <td>1</td>\n",
       "      <td>3.70</td>\n",
       "      <td>1</td>\n",
       "      <td>N</td>\n",
       "      <td>188</td>\n",
       "      <td>97</td>\n",
       "      <td>1</td>\n",
       "      <td>20.5</td>\n",
       "      <td>0.0</td>\n",
       "      <td>0.5</td>\n",
       "      <td>6.39</td>\n",
       "      <td>0.00</td>\n",
       "      <td>0.3</td>\n",
       "      <td>27.69</td>\n",
       "    </tr>\n",
       "    <tr>\n",
       "      <th>4</th>\n",
       "      <td>30841670</td>\n",
       "      <td>2</td>\n",
       "      <td>04/15/2017 11:32:20 PM</td>\n",
       "      <td>04/15/2017 11:49:03 PM</td>\n",
       "      <td>1</td>\n",
       "      <td>4.37</td>\n",
       "      <td>1</td>\n",
       "      <td>N</td>\n",
       "      <td>4</td>\n",
       "      <td>112</td>\n",
       "      <td>2</td>\n",
       "      <td>16.5</td>\n",
       "      <td>0.5</td>\n",
       "      <td>0.5</td>\n",
       "      <td>0.00</td>\n",
       "      <td>0.00</td>\n",
       "      <td>0.3</td>\n",
       "      <td>17.80</td>\n",
       "    </tr>\n",
       "    <tr>\n",
       "      <th>...</th>\n",
       "      <td>...</td>\n",
       "      <td>...</td>\n",
       "      <td>...</td>\n",
       "      <td>...</td>\n",
       "      <td>...</td>\n",
       "      <td>...</td>\n",
       "      <td>...</td>\n",
       "      <td>...</td>\n",
       "      <td>...</td>\n",
       "      <td>...</td>\n",
       "      <td>...</td>\n",
       "      <td>...</td>\n",
       "      <td>...</td>\n",
       "      <td>...</td>\n",
       "      <td>...</td>\n",
       "      <td>...</td>\n",
       "      <td>...</td>\n",
       "      <td>...</td>\n",
       "    </tr>\n",
       "    <tr>\n",
       "      <th>22694</th>\n",
       "      <td>14873857</td>\n",
       "      <td>2</td>\n",
       "      <td>02/24/2017 5:37:23 PM</td>\n",
       "      <td>02/24/2017 5:40:39 PM</td>\n",
       "      <td>3</td>\n",
       "      <td>0.61</td>\n",
       "      <td>1</td>\n",
       "      <td>N</td>\n",
       "      <td>48</td>\n",
       "      <td>186</td>\n",
       "      <td>2</td>\n",
       "      <td>4.0</td>\n",
       "      <td>1.0</td>\n",
       "      <td>0.5</td>\n",
       "      <td>0.00</td>\n",
       "      <td>0.00</td>\n",
       "      <td>0.3</td>\n",
       "      <td>5.80</td>\n",
       "    </tr>\n",
       "    <tr>\n",
       "      <th>22695</th>\n",
       "      <td>66632549</td>\n",
       "      <td>2</td>\n",
       "      <td>08/06/2017 4:43:59 PM</td>\n",
       "      <td>08/06/2017 5:24:47 PM</td>\n",
       "      <td>1</td>\n",
       "      <td>16.71</td>\n",
       "      <td>2</td>\n",
       "      <td>N</td>\n",
       "      <td>132</td>\n",
       "      <td>164</td>\n",
       "      <td>1</td>\n",
       "      <td>52.0</td>\n",
       "      <td>0.0</td>\n",
       "      <td>0.5</td>\n",
       "      <td>14.64</td>\n",
       "      <td>5.76</td>\n",
       "      <td>0.3</td>\n",
       "      <td>73.20</td>\n",
       "    </tr>\n",
       "    <tr>\n",
       "      <th>22696</th>\n",
       "      <td>74239933</td>\n",
       "      <td>2</td>\n",
       "      <td>09/04/2017 2:54:14 PM</td>\n",
       "      <td>09/04/2017 2:58:22 PM</td>\n",
       "      <td>1</td>\n",
       "      <td>0.42</td>\n",
       "      <td>1</td>\n",
       "      <td>N</td>\n",
       "      <td>107</td>\n",
       "      <td>234</td>\n",
       "      <td>2</td>\n",
       "      <td>4.5</td>\n",
       "      <td>0.0</td>\n",
       "      <td>0.5</td>\n",
       "      <td>0.00</td>\n",
       "      <td>0.00</td>\n",
       "      <td>0.3</td>\n",
       "      <td>5.30</td>\n",
       "    </tr>\n",
       "    <tr>\n",
       "      <th>22697</th>\n",
       "      <td>60217333</td>\n",
       "      <td>2</td>\n",
       "      <td>07/15/2017 12:56:30 PM</td>\n",
       "      <td>07/15/2017 1:08:26 PM</td>\n",
       "      <td>1</td>\n",
       "      <td>2.36</td>\n",
       "      <td>1</td>\n",
       "      <td>N</td>\n",
       "      <td>68</td>\n",
       "      <td>144</td>\n",
       "      <td>1</td>\n",
       "      <td>10.5</td>\n",
       "      <td>0.0</td>\n",
       "      <td>0.5</td>\n",
       "      <td>1.70</td>\n",
       "      <td>0.00</td>\n",
       "      <td>0.3</td>\n",
       "      <td>13.00</td>\n",
       "    </tr>\n",
       "    <tr>\n",
       "      <th>22698</th>\n",
       "      <td>17208911</td>\n",
       "      <td>1</td>\n",
       "      <td>03/02/2017 1:02:49 PM</td>\n",
       "      <td>03/02/2017 1:16:09 PM</td>\n",
       "      <td>1</td>\n",
       "      <td>2.10</td>\n",
       "      <td>1</td>\n",
       "      <td>N</td>\n",
       "      <td>239</td>\n",
       "      <td>236</td>\n",
       "      <td>1</td>\n",
       "      <td>11.0</td>\n",
       "      <td>0.0</td>\n",
       "      <td>0.5</td>\n",
       "      <td>2.35</td>\n",
       "      <td>0.00</td>\n",
       "      <td>0.3</td>\n",
       "      <td>14.15</td>\n",
       "    </tr>\n",
       "  </tbody>\n",
       "</table>\n",
       "<p>22699 rows × 18 columns</p>\n",
       "</div>"
      ],
      "text/plain": [
       "       Unnamed: 0  VendorID    tpep_pickup_datetime   tpep_dropoff_datetime  \\\n",
       "0        24870114         2   03/25/2017 8:55:43 AM   03/25/2017 9:09:47 AM   \n",
       "1        35634249         1   04/11/2017 2:53:28 PM   04/11/2017 3:19:58 PM   \n",
       "2       106203690         1   12/15/2017 7:26:56 AM   12/15/2017 7:34:08 AM   \n",
       "3        38942136         2   05/07/2017 1:17:59 PM   05/07/2017 1:48:14 PM   \n",
       "4        30841670         2  04/15/2017 11:32:20 PM  04/15/2017 11:49:03 PM   \n",
       "...           ...       ...                     ...                     ...   \n",
       "22694    14873857         2   02/24/2017 5:37:23 PM   02/24/2017 5:40:39 PM   \n",
       "22695    66632549         2   08/06/2017 4:43:59 PM   08/06/2017 5:24:47 PM   \n",
       "22696    74239933         2   09/04/2017 2:54:14 PM   09/04/2017 2:58:22 PM   \n",
       "22697    60217333         2  07/15/2017 12:56:30 PM   07/15/2017 1:08:26 PM   \n",
       "22698    17208911         1   03/02/2017 1:02:49 PM   03/02/2017 1:16:09 PM   \n",
       "\n",
       "       passenger_count  trip_distance  RatecodeID store_and_fwd_flag  \\\n",
       "0                    6           3.34           1                  N   \n",
       "1                    1           1.80           1                  N   \n",
       "2                    1           1.00           1                  N   \n",
       "3                    1           3.70           1                  N   \n",
       "4                    1           4.37           1                  N   \n",
       "...                ...            ...         ...                ...   \n",
       "22694                3           0.61           1                  N   \n",
       "22695                1          16.71           2                  N   \n",
       "22696                1           0.42           1                  N   \n",
       "22697                1           2.36           1                  N   \n",
       "22698                1           2.10           1                  N   \n",
       "\n",
       "       PULocationID  DOLocationID  payment_type  fare_amount  extra  mta_tax  \\\n",
       "0               100           231             1         13.0    0.0      0.5   \n",
       "1               186            43             1         16.0    0.0      0.5   \n",
       "2               262           236             1          6.5    0.0      0.5   \n",
       "3               188            97             1         20.5    0.0      0.5   \n",
       "4                 4           112             2         16.5    0.5      0.5   \n",
       "...             ...           ...           ...          ...    ...      ...   \n",
       "22694            48           186             2          4.0    1.0      0.5   \n",
       "22695           132           164             1         52.0    0.0      0.5   \n",
       "22696           107           234             2          4.5    0.0      0.5   \n",
       "22697            68           144             1         10.5    0.0      0.5   \n",
       "22698           239           236             1         11.0    0.0      0.5   \n",
       "\n",
       "       tip_amount  tolls_amount  improvement_surcharge  total_amount  \n",
       "0            2.76          0.00                    0.3         16.56  \n",
       "1            4.00          0.00                    0.3         20.80  \n",
       "2            1.45          0.00                    0.3          8.75  \n",
       "3            6.39          0.00                    0.3         27.69  \n",
       "4            0.00          0.00                    0.3         17.80  \n",
       "...           ...           ...                    ...           ...  \n",
       "22694        0.00          0.00                    0.3          5.80  \n",
       "22695       14.64          5.76                    0.3         73.20  \n",
       "22696        0.00          0.00                    0.3          5.30  \n",
       "22697        1.70          0.00                    0.3         13.00  \n",
       "22698        2.35          0.00                    0.3         14.15  \n",
       "\n",
       "[22699 rows x 18 columns]"
      ]
     },
     "execution_count": 12,
     "metadata": {},
     "output_type": "execute_result"
    }
   ],
   "source": [
    "df.drop_duplicates()"
   ]
  },
  {
   "cell_type": "code",
   "execution_count": 13,
   "metadata": {},
   "outputs": [],
   "source": [
    "#so there are no duplicates since it has same number of rows before and no null values"
   ]
  },
  {
   "cell_type": "markdown",
   "metadata": {
    "id": "WXWAlPTY9iLK"
   },
   "source": [
    "Use `.describe()`."
   ]
  },
  {
   "cell_type": "code",
   "execution_count": 14,
   "metadata": {
    "id": "2O3b9H9B9nwk"
   },
   "outputs": [
    {
     "data": {
      "text/html": [
       "<div>\n",
       "<style scoped>\n",
       "    .dataframe tbody tr th:only-of-type {\n",
       "        vertical-align: middle;\n",
       "    }\n",
       "\n",
       "    .dataframe tbody tr th {\n",
       "        vertical-align: top;\n",
       "    }\n",
       "\n",
       "    .dataframe thead th {\n",
       "        text-align: right;\n",
       "    }\n",
       "</style>\n",
       "<table border=\"1\" class=\"dataframe\">\n",
       "  <thead>\n",
       "    <tr style=\"text-align: right;\">\n",
       "      <th></th>\n",
       "      <th>Unnamed: 0</th>\n",
       "      <th>VendorID</th>\n",
       "      <th>tpep_pickup_datetime</th>\n",
       "      <th>tpep_dropoff_datetime</th>\n",
       "      <th>passenger_count</th>\n",
       "      <th>trip_distance</th>\n",
       "      <th>RatecodeID</th>\n",
       "      <th>store_and_fwd_flag</th>\n",
       "      <th>PULocationID</th>\n",
       "      <th>DOLocationID</th>\n",
       "      <th>payment_type</th>\n",
       "      <th>fare_amount</th>\n",
       "      <th>extra</th>\n",
       "      <th>mta_tax</th>\n",
       "      <th>tip_amount</th>\n",
       "      <th>tolls_amount</th>\n",
       "      <th>improvement_surcharge</th>\n",
       "      <th>total_amount</th>\n",
       "    </tr>\n",
       "  </thead>\n",
       "  <tbody>\n",
       "    <tr>\n",
       "      <th>count</th>\n",
       "      <td>2.269900e+04</td>\n",
       "      <td>22699.000000</td>\n",
       "      <td>22699</td>\n",
       "      <td>22699</td>\n",
       "      <td>22699.000000</td>\n",
       "      <td>22699.000000</td>\n",
       "      <td>22699.000000</td>\n",
       "      <td>22699</td>\n",
       "      <td>22699.000000</td>\n",
       "      <td>22699.000000</td>\n",
       "      <td>22699.000000</td>\n",
       "      <td>22699.000000</td>\n",
       "      <td>22699.000000</td>\n",
       "      <td>22699.000000</td>\n",
       "      <td>22699.000000</td>\n",
       "      <td>22699.000000</td>\n",
       "      <td>22699.000000</td>\n",
       "      <td>22699.000000</td>\n",
       "    </tr>\n",
       "    <tr>\n",
       "      <th>unique</th>\n",
       "      <td>NaN</td>\n",
       "      <td>NaN</td>\n",
       "      <td>22687</td>\n",
       "      <td>22688</td>\n",
       "      <td>NaN</td>\n",
       "      <td>NaN</td>\n",
       "      <td>NaN</td>\n",
       "      <td>2</td>\n",
       "      <td>NaN</td>\n",
       "      <td>NaN</td>\n",
       "      <td>NaN</td>\n",
       "      <td>NaN</td>\n",
       "      <td>NaN</td>\n",
       "      <td>NaN</td>\n",
       "      <td>NaN</td>\n",
       "      <td>NaN</td>\n",
       "      <td>NaN</td>\n",
       "      <td>NaN</td>\n",
       "    </tr>\n",
       "    <tr>\n",
       "      <th>top</th>\n",
       "      <td>NaN</td>\n",
       "      <td>NaN</td>\n",
       "      <td>07/03/2017 3:45:19 PM</td>\n",
       "      <td>10/18/2017 8:07:45 PM</td>\n",
       "      <td>NaN</td>\n",
       "      <td>NaN</td>\n",
       "      <td>NaN</td>\n",
       "      <td>N</td>\n",
       "      <td>NaN</td>\n",
       "      <td>NaN</td>\n",
       "      <td>NaN</td>\n",
       "      <td>NaN</td>\n",
       "      <td>NaN</td>\n",
       "      <td>NaN</td>\n",
       "      <td>NaN</td>\n",
       "      <td>NaN</td>\n",
       "      <td>NaN</td>\n",
       "      <td>NaN</td>\n",
       "    </tr>\n",
       "    <tr>\n",
       "      <th>freq</th>\n",
       "      <td>NaN</td>\n",
       "      <td>NaN</td>\n",
       "      <td>2</td>\n",
       "      <td>2</td>\n",
       "      <td>NaN</td>\n",
       "      <td>NaN</td>\n",
       "      <td>NaN</td>\n",
       "      <td>22600</td>\n",
       "      <td>NaN</td>\n",
       "      <td>NaN</td>\n",
       "      <td>NaN</td>\n",
       "      <td>NaN</td>\n",
       "      <td>NaN</td>\n",
       "      <td>NaN</td>\n",
       "      <td>NaN</td>\n",
       "      <td>NaN</td>\n",
       "      <td>NaN</td>\n",
       "      <td>NaN</td>\n",
       "    </tr>\n",
       "    <tr>\n",
       "      <th>mean</th>\n",
       "      <td>5.675849e+07</td>\n",
       "      <td>1.556236</td>\n",
       "      <td>NaN</td>\n",
       "      <td>NaN</td>\n",
       "      <td>1.642319</td>\n",
       "      <td>2.913313</td>\n",
       "      <td>1.043394</td>\n",
       "      <td>NaN</td>\n",
       "      <td>162.412353</td>\n",
       "      <td>161.527997</td>\n",
       "      <td>1.336887</td>\n",
       "      <td>13.026629</td>\n",
       "      <td>0.333275</td>\n",
       "      <td>0.497445</td>\n",
       "      <td>1.835781</td>\n",
       "      <td>0.312542</td>\n",
       "      <td>0.299551</td>\n",
       "      <td>16.310502</td>\n",
       "    </tr>\n",
       "    <tr>\n",
       "      <th>std</th>\n",
       "      <td>3.274493e+07</td>\n",
       "      <td>0.496838</td>\n",
       "      <td>NaN</td>\n",
       "      <td>NaN</td>\n",
       "      <td>1.285231</td>\n",
       "      <td>3.653171</td>\n",
       "      <td>0.708391</td>\n",
       "      <td>NaN</td>\n",
       "      <td>66.633373</td>\n",
       "      <td>70.139691</td>\n",
       "      <td>0.496211</td>\n",
       "      <td>13.243791</td>\n",
       "      <td>0.463097</td>\n",
       "      <td>0.039465</td>\n",
       "      <td>2.800626</td>\n",
       "      <td>1.399212</td>\n",
       "      <td>0.015673</td>\n",
       "      <td>16.097295</td>\n",
       "    </tr>\n",
       "    <tr>\n",
       "      <th>min</th>\n",
       "      <td>1.212700e+04</td>\n",
       "      <td>1.000000</td>\n",
       "      <td>NaN</td>\n",
       "      <td>NaN</td>\n",
       "      <td>0.000000</td>\n",
       "      <td>0.000000</td>\n",
       "      <td>1.000000</td>\n",
       "      <td>NaN</td>\n",
       "      <td>1.000000</td>\n",
       "      <td>1.000000</td>\n",
       "      <td>1.000000</td>\n",
       "      <td>-120.000000</td>\n",
       "      <td>-1.000000</td>\n",
       "      <td>-0.500000</td>\n",
       "      <td>0.000000</td>\n",
       "      <td>0.000000</td>\n",
       "      <td>-0.300000</td>\n",
       "      <td>-120.300000</td>\n",
       "    </tr>\n",
       "    <tr>\n",
       "      <th>25%</th>\n",
       "      <td>2.852056e+07</td>\n",
       "      <td>1.000000</td>\n",
       "      <td>NaN</td>\n",
       "      <td>NaN</td>\n",
       "      <td>1.000000</td>\n",
       "      <td>0.990000</td>\n",
       "      <td>1.000000</td>\n",
       "      <td>NaN</td>\n",
       "      <td>114.000000</td>\n",
       "      <td>112.000000</td>\n",
       "      <td>1.000000</td>\n",
       "      <td>6.500000</td>\n",
       "      <td>0.000000</td>\n",
       "      <td>0.500000</td>\n",
       "      <td>0.000000</td>\n",
       "      <td>0.000000</td>\n",
       "      <td>0.300000</td>\n",
       "      <td>8.750000</td>\n",
       "    </tr>\n",
       "    <tr>\n",
       "      <th>50%</th>\n",
       "      <td>5.673150e+07</td>\n",
       "      <td>2.000000</td>\n",
       "      <td>NaN</td>\n",
       "      <td>NaN</td>\n",
       "      <td>1.000000</td>\n",
       "      <td>1.610000</td>\n",
       "      <td>1.000000</td>\n",
       "      <td>NaN</td>\n",
       "      <td>162.000000</td>\n",
       "      <td>162.000000</td>\n",
       "      <td>1.000000</td>\n",
       "      <td>9.500000</td>\n",
       "      <td>0.000000</td>\n",
       "      <td>0.500000</td>\n",
       "      <td>1.350000</td>\n",
       "      <td>0.000000</td>\n",
       "      <td>0.300000</td>\n",
       "      <td>11.800000</td>\n",
       "    </tr>\n",
       "    <tr>\n",
       "      <th>75%</th>\n",
       "      <td>8.537452e+07</td>\n",
       "      <td>2.000000</td>\n",
       "      <td>NaN</td>\n",
       "      <td>NaN</td>\n",
       "      <td>2.000000</td>\n",
       "      <td>3.060000</td>\n",
       "      <td>1.000000</td>\n",
       "      <td>NaN</td>\n",
       "      <td>233.000000</td>\n",
       "      <td>233.000000</td>\n",
       "      <td>2.000000</td>\n",
       "      <td>14.500000</td>\n",
       "      <td>0.500000</td>\n",
       "      <td>0.500000</td>\n",
       "      <td>2.450000</td>\n",
       "      <td>0.000000</td>\n",
       "      <td>0.300000</td>\n",
       "      <td>17.800000</td>\n",
       "    </tr>\n",
       "    <tr>\n",
       "      <th>max</th>\n",
       "      <td>1.134863e+08</td>\n",
       "      <td>2.000000</td>\n",
       "      <td>NaN</td>\n",
       "      <td>NaN</td>\n",
       "      <td>6.000000</td>\n",
       "      <td>33.960000</td>\n",
       "      <td>99.000000</td>\n",
       "      <td>NaN</td>\n",
       "      <td>265.000000</td>\n",
       "      <td>265.000000</td>\n",
       "      <td>4.000000</td>\n",
       "      <td>999.990000</td>\n",
       "      <td>4.500000</td>\n",
       "      <td>0.500000</td>\n",
       "      <td>200.000000</td>\n",
       "      <td>19.100000</td>\n",
       "      <td>0.300000</td>\n",
       "      <td>1200.290000</td>\n",
       "    </tr>\n",
       "  </tbody>\n",
       "</table>\n",
       "</div>"
      ],
      "text/plain": [
       "          Unnamed: 0      VendorID   tpep_pickup_datetime  \\\n",
       "count   2.269900e+04  22699.000000                  22699   \n",
       "unique           NaN           NaN                  22687   \n",
       "top              NaN           NaN  07/03/2017 3:45:19 PM   \n",
       "freq             NaN           NaN                      2   \n",
       "mean    5.675849e+07      1.556236                    NaN   \n",
       "std     3.274493e+07      0.496838                    NaN   \n",
       "min     1.212700e+04      1.000000                    NaN   \n",
       "25%     2.852056e+07      1.000000                    NaN   \n",
       "50%     5.673150e+07      2.000000                    NaN   \n",
       "75%     8.537452e+07      2.000000                    NaN   \n",
       "max     1.134863e+08      2.000000                    NaN   \n",
       "\n",
       "        tpep_dropoff_datetime  passenger_count  trip_distance    RatecodeID  \\\n",
       "count                   22699     22699.000000   22699.000000  22699.000000   \n",
       "unique                  22688              NaN            NaN           NaN   \n",
       "top     10/18/2017 8:07:45 PM              NaN            NaN           NaN   \n",
       "freq                        2              NaN            NaN           NaN   \n",
       "mean                      NaN         1.642319       2.913313      1.043394   \n",
       "std                       NaN         1.285231       3.653171      0.708391   \n",
       "min                       NaN         0.000000       0.000000      1.000000   \n",
       "25%                       NaN         1.000000       0.990000      1.000000   \n",
       "50%                       NaN         1.000000       1.610000      1.000000   \n",
       "75%                       NaN         2.000000       3.060000      1.000000   \n",
       "max                       NaN         6.000000      33.960000     99.000000   \n",
       "\n",
       "       store_and_fwd_flag  PULocationID  DOLocationID  payment_type  \\\n",
       "count               22699  22699.000000  22699.000000  22699.000000   \n",
       "unique                  2           NaN           NaN           NaN   \n",
       "top                     N           NaN           NaN           NaN   \n",
       "freq                22600           NaN           NaN           NaN   \n",
       "mean                  NaN    162.412353    161.527997      1.336887   \n",
       "std                   NaN     66.633373     70.139691      0.496211   \n",
       "min                   NaN      1.000000      1.000000      1.000000   \n",
       "25%                   NaN    114.000000    112.000000      1.000000   \n",
       "50%                   NaN    162.000000    162.000000      1.000000   \n",
       "75%                   NaN    233.000000    233.000000      2.000000   \n",
       "max                   NaN    265.000000    265.000000      4.000000   \n",
       "\n",
       "         fare_amount         extra       mta_tax    tip_amount  tolls_amount  \\\n",
       "count   22699.000000  22699.000000  22699.000000  22699.000000  22699.000000   \n",
       "unique           NaN           NaN           NaN           NaN           NaN   \n",
       "top              NaN           NaN           NaN           NaN           NaN   \n",
       "freq             NaN           NaN           NaN           NaN           NaN   \n",
       "mean       13.026629      0.333275      0.497445      1.835781      0.312542   \n",
       "std        13.243791      0.463097      0.039465      2.800626      1.399212   \n",
       "min      -120.000000     -1.000000     -0.500000      0.000000      0.000000   \n",
       "25%         6.500000      0.000000      0.500000      0.000000      0.000000   \n",
       "50%         9.500000      0.000000      0.500000      1.350000      0.000000   \n",
       "75%        14.500000      0.500000      0.500000      2.450000      0.000000   \n",
       "max       999.990000      4.500000      0.500000    200.000000     19.100000   \n",
       "\n",
       "        improvement_surcharge  total_amount  \n",
       "count            22699.000000  22699.000000  \n",
       "unique                    NaN           NaN  \n",
       "top                       NaN           NaN  \n",
       "freq                      NaN           NaN  \n",
       "mean                 0.299551     16.310502  \n",
       "std                  0.015673     16.097295  \n",
       "min                 -0.300000   -120.300000  \n",
       "25%                  0.300000      8.750000  \n",
       "50%                  0.300000     11.800000  \n",
       "75%                  0.300000     17.800000  \n",
       "max                  0.300000   1200.290000  "
      ]
     },
     "execution_count": 14,
     "metadata": {},
     "output_type": "execute_result"
    }
   ],
   "source": [
    "# Use .describe()\n",
    "df.describe(include='all')\n"
   ]
  },
  {
   "cell_type": "markdown",
   "metadata": {
    "id": "iXhaBfP_WOSR"
   },
   "source": [
    "### Task 2b. Convert pickup & dropoff columns to datetime\n"
   ]
  },
  {
   "cell_type": "code",
   "execution_count": 15,
   "metadata": {
    "id": "TbHu-SSInJCX"
   },
   "outputs": [
    {
     "data": {
      "text/plain": [
       "('03/25/2017 9:09:47 AM', '03/25/2017 8:55:43 AM')"
      ]
     },
     "execution_count": 15,
     "metadata": {},
     "output_type": "execute_result"
    }
   ],
   "source": [
    "# Check the format of the data\n",
    "df['tpep_dropoff_datetime'][0], df['tpep_pickup_datetime'][0]\n"
   ]
  },
  {
   "cell_type": "code",
   "execution_count": 16,
   "metadata": {
    "id": "h5L6OdYPqV0N"
   },
   "outputs": [
    {
     "name": "stdout",
     "output_type": "stream",
     "text": [
      "Data type of tpep_pickup_datetime: datetime64[ns]\n",
      "Data type of tpep_dropoff_datetime: datetime64[ns]\n"
     ]
    }
   ],
   "source": [
    "# Convert datetime columns to datetime\n",
    "df['tpep_pickup_datetime'] = pd.to_datetime(df['tpep_pickup_datetime'], format='%m/%d/%Y %I:%M:%S %p')\n",
    "df['tpep_dropoff_datetime'] = pd.to_datetime(df['tpep_dropoff_datetime'], format='%m/%d/%Y %I:%M:%S %p')\n",
    "print('Data type of tpep_pickup_datetime:', df['tpep_pickup_datetime'].dtype)\n",
    "print('Data type of tpep_dropoff_datetime:', df['tpep_dropoff_datetime'].dtype)\n"
   ]
  },
  {
   "cell_type": "markdown",
   "metadata": {
    "id": "KlF7ZNSyW0yV"
   },
   "source": [
    "### Task 2c. Create duration column"
   ]
  },
  {
   "cell_type": "markdown",
   "metadata": {
    "id": "w1v_Y1uunbsx"
   },
   "source": [
    "Create a new column called `duration` that represents the total number of minutes that each taxi ride took."
   ]
  },
  {
   "cell_type": "code",
   "execution_count": 17,
   "metadata": {
    "id": "suC4LJFPMPCo"
   },
   "outputs": [],
   "source": [
    "#np.timedelta64(1,'m') it creates time duration of 1 minute\n",
    "df['duration in minutes'] = (df['tpep_dropoff_datetime'] - df['tpep_pickup_datetime'])/np.timedelta64(1,'m')"
   ]
  },
  {
   "cell_type": "markdown",
   "metadata": {
    "id": "7dcytBKhiGAr"
   },
   "source": [
    "### Outliers\n",
    "\n",
    "Call `df.info()` to inspect the columns and decide which ones to check for outliers."
   ]
  },
  {
   "cell_type": "code",
   "execution_count": 18,
   "metadata": {
    "id": "W5bCdL5SSfg1"
   },
   "outputs": [
    {
     "name": "stdout",
     "output_type": "stream",
     "text": [
      "<class 'pandas.core.frame.DataFrame'>\n",
      "RangeIndex: 22699 entries, 0 to 22698\n",
      "Data columns (total 19 columns):\n",
      " #   Column                 Non-Null Count  Dtype         \n",
      "---  ------                 --------------  -----         \n",
      " 0   Unnamed: 0             22699 non-null  int64         \n",
      " 1   VendorID               22699 non-null  int64         \n",
      " 2   tpep_pickup_datetime   22699 non-null  datetime64[ns]\n",
      " 3   tpep_dropoff_datetime  22699 non-null  datetime64[ns]\n",
      " 4   passenger_count        22699 non-null  int64         \n",
      " 5   trip_distance          22699 non-null  float64       \n",
      " 6   RatecodeID             22699 non-null  int64         \n",
      " 7   store_and_fwd_flag     22699 non-null  object        \n",
      " 8   PULocationID           22699 non-null  int64         \n",
      " 9   DOLocationID           22699 non-null  int64         \n",
      " 10  payment_type           22699 non-null  int64         \n",
      " 11  fare_amount            22699 non-null  float64       \n",
      " 12  extra                  22699 non-null  float64       \n",
      " 13  mta_tax                22699 non-null  float64       \n",
      " 14  tip_amount             22699 non-null  float64       \n",
      " 15  tolls_amount           22699 non-null  float64       \n",
      " 16  improvement_surcharge  22699 non-null  float64       \n",
      " 17  total_amount           22699 non-null  float64       \n",
      " 18  duration in minutes    22699 non-null  float64       \n",
      "dtypes: datetime64[ns](2), float64(9), int64(7), object(1)\n",
      "memory usage: 3.3+ MB\n"
     ]
    }
   ],
   "source": [
    "df.info()\n",
    "\n"
   ]
  },
  {
   "cell_type": "markdown",
   "metadata": {
    "id": "gS7VR2S0izZE"
   },
   "source": [
    "Keeping in mind that many of the features will not be used to fit your model, the most important columns to check for outliers are likely to be:\n",
    "* `trip_distance`\n",
    "* `fare_amount`\n",
    "* `duration`\n",
    "\n"
   ]
  },
  {
   "cell_type": "markdown",
   "metadata": {
    "id": "Vtj4iAJMk9Vc"
   },
   "source": [
    "### Task 2d. Box plots\n",
    "\n",
    "Plot a box plot for each feature: `trip_distance`, `fare_amount`, `duration`."
   ]
  },
  {
   "cell_type": "code",
   "execution_count": 29,
   "metadata": {
    "id": "KCEzE-gwL5gq"
   },
   "outputs": [
    {
     "data": {
      "image/png": "[encoded data removed]",
      "text/plain": [
       "<Figure size 1080x216 with 3 Axes>"
      ]
     },
     "metadata": {
      "needs_background": "light"
     },
     "output_type": "display_data"
    }
   ],
   "source": [
    "fig, axes = plt.subplots(1, 3, figsize=(15, 3))\n",
    "fig.suptitle('Boxplots for outlier detection')\n",
    "sns.boxplot(ax=axes[0], x=df['trip_distance'])\n",
    "sns.boxplot(ax=axes[1], x=df['fare_amount'])\n",
    "sns.boxplot(ax=axes[2], x=df['duration in minutes'])\n",
    "plt.show();\n"
   ]
  },
  {
   "cell_type": "markdown",
   "metadata": {
    "id": "pqcGiHLa4TvP"
   },
   "source": [
    "1. Which variable(s) contains outliers? \n",
    "All three variables contain outliers. Some are extreme, but others not so much.\n",
    "\n",
    "2. Are the values in the `trip_distance` column unbelievable?\n",
    "Distance: Approximately 30 miles\n",
    "Route: From Tottenville (southern tip of Staten Island) to Inwood Hill Park (northern end of Manhattan).\n",
    "JFK Airport to the Bronx (Co-op City)\n",
    "\n",
    "Distance: Approximately 30 miles\n",
    "Route: From John F. Kennedy International Airport in Queens to Co-op City in the Bronx.\n",
    "JFK Airport to Upper Manhattan (Inwood)\n",
    "\n",
    "Distance: Approximately 22 miles\n",
    "Route: From John F. Kennedy International Airport to Inwood.\n",
    "Staten Island to LaGuardia Airport\n",
    "\n",
    "Distance: Approximately 25 miles\n",
    "Route: From various points in Staten Island to LaGuardia Airport in Queens.\n",
    "Staten Island to JFK Airport\n",
    "\n",
    "Distance: Approximately 30 miles\n",
    "Route: From various points in Staten Island to John F. Kennedy International Airport.\n",
    "\n",
    "So its not impossible\n",
    "\n",
    "3. What about the lower end? Do distances, fares, and durations of 0 (or negative values) make sense?\n",
    "Probably not for the latter two, but for `trip_distance` it might be okay."
   ]
  },
  {
   "cell_type": "markdown",
   "metadata": {},
   "source": [
    "### Task 2e. Imputations"
   ]
  },
  {
   "cell_type": "markdown",
   "metadata": {},
   "source": [
    "#### `trip_distance` outliers\n",
    "\n",
    "You know from the summary statistics that there are trip distances of 0. Are these reflective of erroneous data, or are they very short trips that get rounded down?\n",
    "\n",
    "To check, sort the column values, eliminate duplicates, and inspect the least 10 values. Are they rounded values or precise values?"
   ]
  },
  {
   "cell_type": "code",
   "execution_count": 30,
   "metadata": {},
   "outputs": [
    {
     "data": {
      "text/plain": [
       "[0.0, 0.01, 0.02, 0.03, 0.04, 0.05, 0.06, 0.07, 0.08, 0.09]"
      ]
     },
     "execution_count": 30,
     "metadata": {},
     "output_type": "execute_result"
    }
   ],
   "source": [
    "# Are trip distances of 0 bad data or very short trips rounded down?\n",
    "sorted(set(df['trip_distance']))[:10]\n"
   ]
  },
  {
   "cell_type": "markdown",
   "metadata": {},
   "source": [
    "The distances are captured with a high degree of precision. However, it might be possible for trips to have distances of zero if a passenger summoned a taxi and then changed their mind. Besides, are there enough zero values in the data to pose a problem?\n",
    "\n",
    "Calculate the count of rides where the `trip_distance` is zero."
   ]
  },
  {
   "cell_type": "code",
   "execution_count": 31,
   "metadata": {},
   "outputs": [
    {
     "data": {
      "text/plain": [
       "148"
      ]
     },
     "execution_count": 31,
     "metadata": {},
     "output_type": "execute_result"
    }
   ],
   "source": [
    "sum(df['trip_distance']==0)"
   ]
  },
  {
   "cell_type": "markdown",
   "metadata": {},
   "source": [
    "#### `fare_amount` outliers"
   ]
  },
  {
   "cell_type": "markdown",
   "metadata": {},
   "source": [
    "148 out of 23,000 rides is relatively insignificant. You could impute it with a value of 0.01, but it's unlikely to have much of an effect on the model. Therefore, the trip_distance column will remain untouched with regard to outliers.\n"
   ]
  },
  {
   "cell_type": "markdown",
   "metadata": {},
   "source": [
    "**Question:** What do you notice about the values in the `fare_amount` column?\n",
    "\n",
    "Impute values less than $0 with `0`."
   ]
  },
  {
   "cell_type": "code",
   "execution_count": 32,
   "metadata": {},
   "outputs": [
    {
     "data": {
      "text/plain": [
       "0.0"
      ]
     },
     "execution_count": 32,
     "metadata": {},
     "output_type": "execute_result"
    }
   ],
   "source": [
    "# Impute values less than $0 with 0\n",
    "# Impute values less than $0 with 0\n",
    "df.loc[df['fare_amount'] < 0, 'fare_amount'] = 0\n",
    "df['fare_amount'].min()\n"
   ]
  },
  {
   "cell_type": "markdown",
   "metadata": {},
   "source": [
    "The range of values in the `fare_amount` column is large and the extremes don't make much sense.\n",
    "\n",
    "* **Low values:** Negative values are problematic. Values of zero could be legitimate if the taxi logged a trip that was immediately canceled.\n",
    "\n",
    "* **High values:** The maximum fare amount in this dataset is nearly \\\\$1,000, which seems very unlikely. High values for this feature can be capped based on intuition and statistics. The interquartile range (IQR) is (14.5-6.5) i.e \\\\$8. The standard formula of `Q3 + (1.5 * IQR)` yields \\$26.50. That doesn't seem appropriate for the maximum fare cap. In this case, we'll use a factor of `6` i.e `Q3 + (6.0 * IQR)`, which results in a cap of $62.50.\n",
    "\n",
    "Impute values less than $0 with `0`."
   ]
  },
  {
   "cell_type": "markdown",
   "metadata": {},
   "source": [
    "Now impute the maximum value as `Q3 + (6 * IQR)`."
   ]
  },
  {
   "cell_type": "code",
   "execution_count": 33,
   "metadata": {},
   "outputs": [],
   "source": [
    "def Impute(column_list,iqr_factor):\n",
    "    '''\n",
    "    Impute upper-limit values in specified columns based on their interquartile range.\n",
    "\n",
    "    Arguments:\n",
    "        column_list: A list of columns to iterate over\n",
    "        iqr_factor: A number representing x in the formula:\n",
    "                    Q3 + (x * IQR). Used to determine maximum threshold,\n",
    "                    beyond which a point is considered an outlier.\n",
    "\n",
    "    The IQR is computed for each column in column_list and values exceeding\n",
    "    the upper threshold for each column are imputed with the upper threshold value.\n",
    "    '''\n",
    "    for col in column_list:\n",
    "        # Reassign minimum to zero\n",
    "        df.loc[df[col] < 0, col] = 0\n",
    "\n",
    "        # Calculate upper threshold\n",
    "        q1 = df[col].quantile(0.25)\n",
    "        q3 = df[col].quantile(0.75)\n",
    "        iqr = q3 - q1\n",
    "        upper_threshold = q3 + (iqr_factor * iqr)\n",
    "        print(col)\n",
    "        print('q3:', q3)\n",
    "        print('upper_threshold:', upper_threshold)\n",
    "\n",
    "        # Reassign values > threshold to threshold\n",
    "        df.loc[df[col] > upper_threshold, col] = upper_threshold\n",
    "        print(df[col].describe())\n",
    "        print()"
   ]
  },
  {
   "cell_type": "code",
   "execution_count": 34,
   "metadata": {},
   "outputs": [
    {
     "name": "stdout",
     "output_type": "stream",
     "text": [
      "fare_amount\n",
      "q3: 14.5\n",
      "upper_threshold: 62.5\n",
      "count    22699.000000\n",
      "mean        12.897913\n",
      "std         10.541137\n",
      "min          0.000000\n",
      "25%          6.500000\n",
      "50%          9.500000\n",
      "75%         14.500000\n",
      "max         62.500000\n",
      "Name: fare_amount, dtype: float64\n",
      "\n"
     ]
    }
   ],
   "source": [
    "Impute(['fare_amount'], 6)"
   ]
  },
  {
   "cell_type": "markdown",
   "metadata": {},
   "source": [
    "#### `duration` outliers\n"
   ]
  },
  {
   "cell_type": "code",
   "execution_count": 36,
   "metadata": {},
   "outputs": [
    {
     "data": {
      "text/plain": [
       "count    22699.000000\n",
       "mean        17.013777\n",
       "std         61.996482\n",
       "min        -16.983333\n",
       "25%          6.650000\n",
       "50%         11.183333\n",
       "75%         18.383333\n",
       "max       1439.550000\n",
       "Name: duration in minutes, dtype: float64"
      ]
     },
     "execution_count": 36,
     "metadata": {},
     "output_type": "execute_result"
    }
   ],
   "source": [
    "# Call .describe() for duration outliers\n",
    "df['duration in minutes'].describe()"
   ]
  },
  {
   "cell_type": "markdown",
   "metadata": {},
   "source": [
    "The `duration` column has problematic values at both the lower and upper extremities.\n",
    "\n",
    "* **Low values:** There should be no values that represent negative time. Impute all negative durations with `0`.\n",
    "\n",
    "* **High values:** Impute high values the same way you imputed the high-end outliers for fares: `Q3 + (6 * IQR)`."
   ]
  },
  {
   "cell_type": "code",
   "execution_count": 39,
   "metadata": {},
   "outputs": [
    {
     "data": {
      "text/plain": [
       "0.0"
      ]
     },
     "execution_count": 39,
     "metadata": {},
     "output_type": "execute_result"
    }
   ],
   "source": [
    "# Impute a 0 for any negative values\n",
    "df.loc[df['duration in minutes'] < 0, 'duration in minutes'] = 0\n",
    "df['duration in minutes'].min()"
   ]
  },
  {
   "cell_type": "code",
   "execution_count": 40,
   "metadata": {},
   "outputs": [
    {
     "name": "stdout",
     "output_type": "stream",
     "text": [
      "duration in minutes\n",
      "q3: 18.383333333333333\n",
      "upper_threshold: 88.78333333333333\n",
      "count    22699.000000\n",
      "mean        14.460555\n",
      "std         11.947043\n",
      "min          0.000000\n",
      "25%          6.650000\n",
      "50%         11.183333\n",
      "75%         18.383333\n",
      "max         88.783333\n",
      "Name: duration in minutes, dtype: float64\n",
      "\n"
     ]
    }
   ],
   "source": [
    "# Impute the high outliers\n",
    "Impute(['duration in minutes'], 6)"
   ]
  },
  {
   "cell_type": "markdown",
   "metadata": {},
   "source": [
    "### Task 3a. Feature engineering"
   ]
  },
  {
   "cell_type": "markdown",
   "metadata": {},
   "source": [
    "#### Create `mean_distance` column\n",
    "\n",
    "When deployed, the model will not know the duration of a trip until after the trip occurs, so you cannot train a model that uses this feature. However, you can use the statistics of trips you *do* know to generalize about ones you do not know.\n",
    "\n",
    "In this step, create a column called `mean_distance` that captures the mean distance for each group of trips that share pickup and dropoff points.\n",
    "\n",
    "For example, if your data were:\n",
    "\n",
    "|Trip|Start|End|Distance|\n",
    "|--: |:---:|:-:|    |\n",
    "| 1  | A   | B | 1  |\n",
    "| 2  | C   | D | 2  |\n",
    "| 3  | A   | B |1.5 |\n",
    "| 4  | D   | C | 3  |\n",
    "\n",
    "The results should be:\n",
    "```\n",
    "A -> B: 1.25 miles\n",
    "C -> D: 2 miles\n",
    "D -> C: 3 miles\n",
    "```\n",
    "\n",
    "Notice that C -> D is not the same as D -> C. All trips that share a unique pair of start and end points get grouped and averaged.\n",
    "\n",
    "Then, a new column `mean_distance` will be added where the value at each row is the average for all trips with those pickup and dropoff locations:\n",
    "\n",
    "|Trip|Start|End|Distance|mean_distance|\n",
    "|--: |:---:|:-:|  :--   |:--   |\n",
    "| 1  | A   | B | 1      | 1.25 |\n",
    "| 2  | C   | D | 2      | 2    |\n",
    "| 3  | A   | B |1.5     | 1.25 |\n",
    "| 4  | D   | C | 3      | 3    |\n",
    "\n",
    "\n",
    "Begin by creating a helper column called `pickup_dropoff`, which contains the unique combination of pickup and dropoff location IDs for each row.\n",
    "\n",
    "One way to do this is to convert the pickup and dropoff location IDs to strings and join them, separated by a space. The space is to ensure that, for example, a trip with pickup/dropoff points of 12 & 151 gets encoded differently than a trip with points 121 & 51.\n",
    "\n",
    "So, the new column would look like this:\n",
    "\n",
    "|Trip|Start|End|pickup_dropoff|\n",
    "|--: |:---:|:-:|  :--         |\n",
    "| 1  | A   | B | 'A B'        |\n",
    "| 2  | C   | D | 'C D'        |\n",
    "| 3  | A   | B | 'A B'        |\n",
    "| 4  | D   | C | 'D C'        |\n"
   ]
  },
  {
   "cell_type": "code",
   "execution_count": 43,
   "metadata": {},
   "outputs": [
    {
     "data": {
      "text/plain": [
       "0        100 231\n",
       "1         186 43\n",
       "2        262 236\n",
       "3         188 97\n",
       "4          4 112\n",
       "          ...   \n",
       "22694     48 186\n",
       "22695    132 164\n",
       "22696    107 234\n",
       "22697     68 144\n",
       "22698    239 236\n",
       "Name: pickup_dropoff, Length: 22699, dtype: object"
      ]
     },
     "execution_count": 43,
     "metadata": {},
     "output_type": "execute_result"
    }
   ],
   "source": [
    "# Create `pickup_dropoff` column\n",
    "df['pickup_dropoff'] = df['PULocationID'].astype(str) + ' ' + df['DOLocationID'].astype(str)\n",
    "df['pickup_dropoff']"
   ]
  },
  {
   "cell_type": "markdown",
   "metadata": {},
   "source": [
    "Now, use a `groupby()` statement to group each row by the new `pickup_dropoff` column, compute the mean, and capture the values only in the `trip_distance` column. Assign the results to a variable named `grouped`."
   ]
  },
  {
   "cell_type": "code",
   "execution_count": 44,
   "metadata": {},
   "outputs": [
    {
     "data": {
      "text/html": [
       "<div>\n",
       "<style scoped>\n",
       "    .dataframe tbody tr th:only-of-type {\n",
       "        vertical-align: middle;\n",
       "    }\n",
       "\n",
       "    .dataframe tbody tr th {\n",
       "        vertical-align: top;\n",
       "    }\n",
       "\n",
       "    .dataframe thead th {\n",
       "        text-align: right;\n",
       "    }\n",
       "</style>\n",
       "<table border=\"1\" class=\"dataframe\">\n",
       "  <thead>\n",
       "    <tr style=\"text-align: right;\">\n",
       "      <th></th>\n",
       "      <th>trip_distance</th>\n",
       "    </tr>\n",
       "    <tr>\n",
       "      <th>pickup_dropoff</th>\n",
       "      <th></th>\n",
       "    </tr>\n",
       "  </thead>\n",
       "  <tbody>\n",
       "    <tr>\n",
       "      <th>1 1</th>\n",
       "      <td>2.433333</td>\n",
       "    </tr>\n",
       "    <tr>\n",
       "      <th>10 148</th>\n",
       "      <td>15.700000</td>\n",
       "    </tr>\n",
       "    <tr>\n",
       "      <th>100 1</th>\n",
       "      <td>16.890000</td>\n",
       "    </tr>\n",
       "    <tr>\n",
       "      <th>100 100</th>\n",
       "      <td>0.253333</td>\n",
       "    </tr>\n",
       "    <tr>\n",
       "      <th>100 107</th>\n",
       "      <td>1.180000</td>\n",
       "    </tr>\n",
       "  </tbody>\n",
       "</table>\n",
       "</div>"
      ],
      "text/plain": [
       "                trip_distance\n",
       "pickup_dropoff               \n",
       "1 1                  2.433333\n",
       "10 148              15.700000\n",
       "100 1               16.890000\n",
       "100 100              0.253333\n",
       "100 107              1.180000"
      ]
     },
     "execution_count": 44,
     "metadata": {},
     "output_type": "execute_result"
    }
   ],
   "source": [
    "grouped = df.groupby('pickup_dropoff').mean(numeric_only=True)[['trip_distance']]\n",
    "grouped[:5]"
   ]
  },
  {
   "cell_type": "markdown",
   "metadata": {},
   "source": [
    "`grouped` is an object of the `DataFrame` class.\n",
    "\n",
    "1. Convert it to a dictionary using the [`to_dict()`](https://pandas.pydata.org/docs/reference/api/pandas.DataFrame.to_dict.html) method. Assign the results to a variable called `grouped_dict`. This will result in a dictionary with a key of `trip_distance` whose values are another dictionary. The inner dictionary's keys are pickup/dropoff points and its values are mean distances. This is the information you want.\n",
    "\n",
    "```\n",
    "Example:\n",
    "grouped_dict = {'trip_distance': {'A B': 1.25, 'C D': 2, 'D C': 3}\n",
    "```\n",
    "\n",
    "2. Reassign the `grouped_dict` dictionary so it contains only the inner dictionary. In other words, get rid of `trip_distance` as a key, so:\n",
    "\n",
    "```\n",
    "Example:\n",
    "grouped_dict = {'A B': 1.25, 'C D': 2, 'D C': 3}\n",
    " ```"
   ]
  },
  {
   "cell_type": "code",
   "execution_count": 45,
   "metadata": {},
   "outputs": [],
   "source": [
    "# 1. Convert `grouped` to a dictionary\n",
    "grouped_dict = grouped.to_dict()\n",
    "\n",
    "# 2. Reassign to only contain the inner dictionary\n",
    "grouped_dict = grouped_dict['trip_distance']"
   ]
  },
  {
   "cell_type": "markdown",
   "metadata": {},
   "source": [
    "1. Create a `mean_distance` column that is a copy of the `pickup_dropoff` helper column.\n",
    "\n",
    "2. Use the [`map()`](https://pandas.pydata.org/docs/reference/api/pandas.Series.map.html#pandas-series-map) method on the `mean_distance` series. Pass `grouped_dict` as its argument. Reassign the result back to the `mean_distance` series.\n",
    "</br></br>\n",
    "When you pass a dictionary to the `Series.map()` method, it will replace the data in the series where that data matches the dictionary's keys. The values that get imputed are the values of the dictionary.\n",
    "\n",
    "```\n",
    "Example:\n",
    "df['mean_distance']\n",
    "```\n",
    "\n",
    "|mean_distance |\n",
    "|  :-:         |\n",
    "| 'A B'        |\n",
    "| 'C D'        |\n",
    "| 'A B'        |\n",
    "| 'D C'        |\n",
    "| 'E F'        |\n",
    "\n",
    "```\n",
    "grouped_dict = {'A B': 1.25, 'C D': 2, 'D C': 3}\n",
    "df['mean_distance`] = df['mean_distance'].map(grouped_dict)\n",
    "df['mean_distance']\n",
    "```\n",
    "\n",
    "|mean_distance |\n",
    "|  :-:         |\n",
    "| 1.25         |\n",
    "| 2            |\n",
    "| 1.25         |\n",
    "| 3            |\n",
    "| NaN          |\n",
    "\n",
    "When used this way, the `map()` `Series` method is very similar to `replace()`, however, note that `map()` will impute `NaN` for any values in the series that do not have a corresponding key in the mapping dictionary, so be careful."
   ]
  },
  {
   "cell_type": "code",
   "execution_count": 46,
   "metadata": {},
   "outputs": [
    {
     "data": {
      "text/html": [
       "<div>\n",
       "<style scoped>\n",
       "    .dataframe tbody tr th:only-of-type {\n",
       "        vertical-align: middle;\n",
       "    }\n",
       "\n",
       "    .dataframe tbody tr th {\n",
       "        vertical-align: top;\n",
       "    }\n",
       "\n",
       "    .dataframe thead th {\n",
       "        text-align: right;\n",
       "    }\n",
       "</style>\n",
       "<table border=\"1\" class=\"dataframe\">\n",
       "  <thead>\n",
       "    <tr style=\"text-align: right;\">\n",
       "      <th></th>\n",
       "      <th>mean_distance</th>\n",
       "    </tr>\n",
       "  </thead>\n",
       "  <tbody>\n",
       "    <tr>\n",
       "      <th>0</th>\n",
       "      <td>3.521667</td>\n",
       "    </tr>\n",
       "    <tr>\n",
       "      <th>4909</th>\n",
       "      <td>3.521667</td>\n",
       "    </tr>\n",
       "    <tr>\n",
       "      <th>16636</th>\n",
       "      <td>3.521667</td>\n",
       "    </tr>\n",
       "    <tr>\n",
       "      <th>18134</th>\n",
       "      <td>3.521667</td>\n",
       "    </tr>\n",
       "    <tr>\n",
       "      <th>19761</th>\n",
       "      <td>3.521667</td>\n",
       "    </tr>\n",
       "    <tr>\n",
       "      <th>20581</th>\n",
       "      <td>3.521667</td>\n",
       "    </tr>\n",
       "  </tbody>\n",
       "</table>\n",
       "</div>"
      ],
      "text/plain": [
       "       mean_distance\n",
       "0           3.521667\n",
       "4909        3.521667\n",
       "16636       3.521667\n",
       "18134       3.521667\n",
       "19761       3.521667\n",
       "20581       3.521667"
      ]
     },
     "execution_count": 46,
     "metadata": {},
     "output_type": "execute_result"
    }
   ],
   "source": [
    "# 1. Create a mean_distance column that is a copy of the pickup_dropoff helper column\n",
    "df['mean_distance'] = df['pickup_dropoff']\n",
    "\n",
    "# 2. Map `grouped_dict` to the `mean_distance` column\n",
    "df['mean_distance'] = df['mean_distance'].map(grouped_dict)\n",
    "\n",
    "# Confirm that it worked\n",
    "df[(df['PULocationID']==100) & (df['DOLocationID']==231)][['mean_distance']]\n"
   ]
  },
  {
   "cell_type": "markdown",
   "metadata": {},
   "source": [
    "#### Create `mean_duration` column\n",
    "\n",
    "Repeat the process used to create the `mean_distance` column to create a `mean_duration` column."
   ]
  },
  {
   "cell_type": "code",
   "execution_count": 48,
   "metadata": {},
   "outputs": [
    {
     "data": {
      "text/html": [
       "<div>\n",
       "<style scoped>\n",
       "    .dataframe tbody tr th:only-of-type {\n",
       "        vertical-align: middle;\n",
       "    }\n",
       "\n",
       "    .dataframe tbody tr th {\n",
       "        vertical-align: top;\n",
       "    }\n",
       "\n",
       "    .dataframe thead th {\n",
       "        text-align: right;\n",
       "    }\n",
       "</style>\n",
       "<table border=\"1\" class=\"dataframe\">\n",
       "  <thead>\n",
       "    <tr style=\"text-align: right;\">\n",
       "      <th></th>\n",
       "      <th>mean_duration</th>\n",
       "    </tr>\n",
       "  </thead>\n",
       "  <tbody>\n",
       "    <tr>\n",
       "      <th>0</th>\n",
       "      <td>22.847222</td>\n",
       "    </tr>\n",
       "    <tr>\n",
       "      <th>4909</th>\n",
       "      <td>22.847222</td>\n",
       "    </tr>\n",
       "    <tr>\n",
       "      <th>16636</th>\n",
       "      <td>22.847222</td>\n",
       "    </tr>\n",
       "    <tr>\n",
       "      <th>18134</th>\n",
       "      <td>22.847222</td>\n",
       "    </tr>\n",
       "    <tr>\n",
       "      <th>19761</th>\n",
       "      <td>22.847222</td>\n",
       "    </tr>\n",
       "    <tr>\n",
       "      <th>20581</th>\n",
       "      <td>22.847222</td>\n",
       "    </tr>\n",
       "  </tbody>\n",
       "</table>\n",
       "</div>"
      ],
      "text/plain": [
       "       mean_duration\n",
       "0          22.847222\n",
       "4909       22.847222\n",
       "16636      22.847222\n",
       "18134      22.847222\n",
       "19761      22.847222\n",
       "20581      22.847222"
      ]
     },
     "execution_count": 48,
     "metadata": {},
     "output_type": "execute_result"
    }
   ],
   "source": [
    "grouped = df.groupby('pickup_dropoff').mean(numeric_only=True)[['duration in minutes']]\n",
    "grouped\n",
    "\n",
    "# Create a dictionary where keys are unique pickup_dropoffs and values are\n",
    "# mean trip duration for all trips with those pickup_dropoff combos\n",
    "grouped_dict = grouped.to_dict()\n",
    "grouped_dict = grouped_dict['duration in minutes']\n",
    "\n",
    "df['mean_duration'] = df['pickup_dropoff']\n",
    "df['mean_duration'] = df['mean_duration'].map(grouped_dict)\n",
    "\n",
    "# Confirm that it worked\n",
    "df[(df['PULocationID']==100) & (df['DOLocationID']==231)][['mean_duration']]"
   ]
  },
  {
   "cell_type": "markdown",
   "metadata": {},
   "source": [
    "#### Create `day` and `month` columns\n",
    "\n",
    "Create two new columns, `day` (name of day) and `month` (name of month) by extracting the relevant information from the `tpep_pickup_datetime` column."
   ]
  },
  {
   "cell_type": "code",
   "execution_count": 49,
   "metadata": {},
   "outputs": [],
   "source": [
    "# Create 'day' col\n",
    "df['day'] = df['tpep_pickup_datetime'].dt.day_name().str.lower()\n",
    "\n",
    "# Create 'month' col\n",
    "df['month'] = df['tpep_pickup_datetime'].dt.strftime('%b').str.lower()"
   ]
  },
  {
   "cell_type": "markdown",
   "metadata": {},
   "source": [
    "#### Create `rush_hour` column\n",
    "\n",
    "Define rush hour as:\n",
    "* Any weekday (not Saturday or Sunday) AND\n",
    "* Either from 06:00&ndash;10:00 or from 16:00&ndash;20:00\n",
    "\n",
    "Create a binary `rush_hour` column that contains a 1 if the ride was during rush hour and a 0 if it was not."
   ]
  },
  {
   "cell_type": "code",
   "execution_count": 50,
   "metadata": {},
   "outputs": [],
   "source": [
    "# Create 'rush_hour' col\n",
    "df['rush_hour'] = df['tpep_pickup_datetime'].dt.hour\n",
    "\n",
    "# If day is Saturday or Sunday, impute 0 in `rush_hour` column\n",
    "df.loc[df['day'].isin(['saturday', 'sunday']), 'rush_hour'] = 0"
   ]
  },
  {
   "cell_type": "code",
   "execution_count": 51,
   "metadata": {},
   "outputs": [],
   "source": [
    "def rush_hourizer(hour):\n",
    "    if 6 <= hour['rush_hour'] < 10:\n",
    "        val = 1\n",
    "    elif 16 <= hour['rush_hour'] < 20:\n",
    "        val = 1\n",
    "    else:\n",
    "        val = 0\n",
    "    return val"
   ]
  },
  {
   "cell_type": "code",
   "execution_count": 52,
   "metadata": {},
   "outputs": [
    {
     "data": {
      "text/html": [
       "<div>\n",
       "<style scoped>\n",
       "    .dataframe tbody tr th:only-of-type {\n",
       "        vertical-align: middle;\n",
       "    }\n",
       "\n",
       "    .dataframe tbody tr th {\n",
       "        vertical-align: top;\n",
       "    }\n",
       "\n",
       "    .dataframe thead th {\n",
       "        text-align: right;\n",
       "    }\n",
       "</style>\n",
       "<table border=\"1\" class=\"dataframe\">\n",
       "  <thead>\n",
       "    <tr style=\"text-align: right;\">\n",
       "      <th></th>\n",
       "      <th>Unnamed: 0</th>\n",
       "      <th>VendorID</th>\n",
       "      <th>tpep_pickup_datetime</th>\n",
       "      <th>tpep_dropoff_datetime</th>\n",
       "      <th>passenger_count</th>\n",
       "      <th>trip_distance</th>\n",
       "      <th>RatecodeID</th>\n",
       "      <th>store_and_fwd_flag</th>\n",
       "      <th>PULocationID</th>\n",
       "      <th>DOLocationID</th>\n",
       "      <th>...</th>\n",
       "      <th>tolls_amount</th>\n",
       "      <th>improvement_surcharge</th>\n",
       "      <th>total_amount</th>\n",
       "      <th>duration in minutes</th>\n",
       "      <th>pickup_dropoff</th>\n",
       "      <th>mean_distance</th>\n",
       "      <th>mean_duration</th>\n",
       "      <th>day</th>\n",
       "      <th>month</th>\n",
       "      <th>rush_hour</th>\n",
       "    </tr>\n",
       "  </thead>\n",
       "  <tbody>\n",
       "    <tr>\n",
       "      <th>0</th>\n",
       "      <td>24870114</td>\n",
       "      <td>2</td>\n",
       "      <td>2017-03-25 08:55:43</td>\n",
       "      <td>2017-03-25 09:09:47</td>\n",
       "      <td>6</td>\n",
       "      <td>3.34</td>\n",
       "      <td>1</td>\n",
       "      <td>N</td>\n",
       "      <td>100</td>\n",
       "      <td>231</td>\n",
       "      <td>...</td>\n",
       "      <td>0.0</td>\n",
       "      <td>0.3</td>\n",
       "      <td>16.56</td>\n",
       "      <td>14.066667</td>\n",
       "      <td>100 231</td>\n",
       "      <td>3.521667</td>\n",
       "      <td>22.847222</td>\n",
       "      <td>saturday</td>\n",
       "      <td>mar</td>\n",
       "      <td>0</td>\n",
       "    </tr>\n",
       "    <tr>\n",
       "      <th>1</th>\n",
       "      <td>35634249</td>\n",
       "      <td>1</td>\n",
       "      <td>2017-04-11 14:53:28</td>\n",
       "      <td>2017-04-11 15:19:58</td>\n",
       "      <td>1</td>\n",
       "      <td>1.80</td>\n",
       "      <td>1</td>\n",
       "      <td>N</td>\n",
       "      <td>186</td>\n",
       "      <td>43</td>\n",
       "      <td>...</td>\n",
       "      <td>0.0</td>\n",
       "      <td>0.3</td>\n",
       "      <td>20.80</td>\n",
       "      <td>26.500000</td>\n",
       "      <td>186 43</td>\n",
       "      <td>3.108889</td>\n",
       "      <td>24.470370</td>\n",
       "      <td>tuesday</td>\n",
       "      <td>apr</td>\n",
       "      <td>0</td>\n",
       "    </tr>\n",
       "    <tr>\n",
       "      <th>2</th>\n",
       "      <td>106203690</td>\n",
       "      <td>1</td>\n",
       "      <td>2017-12-15 07:26:56</td>\n",
       "      <td>2017-12-15 07:34:08</td>\n",
       "      <td>1</td>\n",
       "      <td>1.00</td>\n",
       "      <td>1</td>\n",
       "      <td>N</td>\n",
       "      <td>262</td>\n",
       "      <td>236</td>\n",
       "      <td>...</td>\n",
       "      <td>0.0</td>\n",
       "      <td>0.3</td>\n",
       "      <td>8.75</td>\n",
       "      <td>7.200000</td>\n",
       "      <td>262 236</td>\n",
       "      <td>0.881429</td>\n",
       "      <td>7.250000</td>\n",
       "      <td>friday</td>\n",
       "      <td>dec</td>\n",
       "      <td>1</td>\n",
       "    </tr>\n",
       "    <tr>\n",
       "      <th>3</th>\n",
       "      <td>38942136</td>\n",
       "      <td>2</td>\n",
       "      <td>2017-05-07 13:17:59</td>\n",
       "      <td>2017-05-07 13:48:14</td>\n",
       "      <td>1</td>\n",
       "      <td>3.70</td>\n",
       "      <td>1</td>\n",
       "      <td>N</td>\n",
       "      <td>188</td>\n",
       "      <td>97</td>\n",
       "      <td>...</td>\n",
       "      <td>0.0</td>\n",
       "      <td>0.3</td>\n",
       "      <td>27.69</td>\n",
       "      <td>30.250000</td>\n",
       "      <td>188 97</td>\n",
       "      <td>3.700000</td>\n",
       "      <td>30.250000</td>\n",
       "      <td>sunday</td>\n",
       "      <td>may</td>\n",
       "      <td>0</td>\n",
       "    </tr>\n",
       "    <tr>\n",
       "      <th>4</th>\n",
       "      <td>30841670</td>\n",
       "      <td>2</td>\n",
       "      <td>2017-04-15 23:32:20</td>\n",
       "      <td>2017-04-15 23:49:03</td>\n",
       "      <td>1</td>\n",
       "      <td>4.37</td>\n",
       "      <td>1</td>\n",
       "      <td>N</td>\n",
       "      <td>4</td>\n",
       "      <td>112</td>\n",
       "      <td>...</td>\n",
       "      <td>0.0</td>\n",
       "      <td>0.3</td>\n",
       "      <td>17.80</td>\n",
       "      <td>16.716667</td>\n",
       "      <td>4 112</td>\n",
       "      <td>4.435000</td>\n",
       "      <td>14.616667</td>\n",
       "      <td>saturday</td>\n",
       "      <td>apr</td>\n",
       "      <td>0</td>\n",
       "    </tr>\n",
       "  </tbody>\n",
       "</table>\n",
       "<p>5 rows × 25 columns</p>\n",
       "</div>"
      ],
      "text/plain": [
       "   Unnamed: 0  VendorID tpep_pickup_datetime tpep_dropoff_datetime  \\\n",
       "0    24870114         2  2017-03-25 08:55:43   2017-03-25 09:09:47   \n",
       "1    35634249         1  2017-04-11 14:53:28   2017-04-11 15:19:58   \n",
       "2   106203690         1  2017-12-15 07:26:56   2017-12-15 07:34:08   \n",
       "3    38942136         2  2017-05-07 13:17:59   2017-05-07 13:48:14   \n",
       "4    30841670         2  2017-04-15 23:32:20   2017-04-15 23:49:03   \n",
       "\n",
       "   passenger_count  trip_distance  RatecodeID store_and_fwd_flag  \\\n",
       "0                6           3.34           1                  N   \n",
       "1                1           1.80           1                  N   \n",
       "2                1           1.00           1                  N   \n",
       "3                1           3.70           1                  N   \n",
       "4                1           4.37           1                  N   \n",
       "\n",
       "   PULocationID  DOLocationID  ...  tolls_amount  improvement_surcharge  \\\n",
       "0           100           231  ...           0.0                    0.3   \n",
       "1           186            43  ...           0.0                    0.3   \n",
       "2           262           236  ...           0.0                    0.3   \n",
       "3           188            97  ...           0.0                    0.3   \n",
       "4             4           112  ...           0.0                    0.3   \n",
       "\n",
       "   total_amount  duration in minutes  pickup_dropoff  mean_distance  \\\n",
       "0         16.56            14.066667         100 231       3.521667   \n",
       "1         20.80            26.500000          186 43       3.108889   \n",
       "2          8.75             7.200000         262 236       0.881429   \n",
       "3         27.69            30.250000          188 97       3.700000   \n",
       "4         17.80            16.716667           4 112       4.435000   \n",
       "\n",
       "   mean_duration       day  month rush_hour  \n",
       "0      22.847222  saturday    mar         0  \n",
       "1      24.470370   tuesday    apr         0  \n",
       "2       7.250000    friday    dec         1  \n",
       "3      30.250000    sunday    may         0  \n",
       "4      14.616667  saturday    apr         0  \n",
       "\n",
       "[5 rows x 25 columns]"
      ]
     },
     "execution_count": 52,
     "metadata": {},
     "output_type": "execute_result"
    }
   ],
   "source": [
    "# Apply the `rush_hourizer()` function to the new column\n",
    "df.loc[(df.day != 'saturday') & (df.day != 'sunday'), 'rush_hour'] = df.apply(rush_hourizer, axis=1)\n",
    "df.head()"
   ]
  },
  {
   "cell_type": "markdown",
   "metadata": {},
   "source": [
    "### Task 4. Scatter plot\n",
    "\n",
    "Create a scatterplot to visualize the relationship between `mean_duration` and `fare_amount`."
   ]
  },
  {
   "cell_type": "code",
   "execution_count": 53,
   "metadata": {},
   "outputs": [
    {
     "data": {
      "image/png": "[encoded data removed]",
      "text/plain": [
       "<Figure size 360x360 with 1 Axes>"
      ]
     },
     "metadata": {},
     "output_type": "display_data"
    }
   ],
   "source": [
    "# Create a scatter plot of duration and trip_distance, with a line of best fit\n",
    "sns.set(style='whitegrid')\n",
    "f = plt.figure()\n",
    "f.set_figwidth(5)\n",
    "f.set_figheight(5)\n",
    "sns.regplot(x=df['mean_duration'], y=df['fare_amount'],\n",
    "            scatter_kws={'alpha':0.5, 's':5},\n",
    "            line_kws={'color':'red'})\n",
    "plt.ylim(0, 70)\n",
    "plt.xlim(0, 70)\n",
    "plt.title('Mean duration x fare amount')\n",
    "plt.show()\n"
   ]
  },
  {
   "cell_type": "markdown",
   "metadata": {},
   "source": [
    "The `mean_duration` variable correlates with the target variable. But what are the horizontal lines around fare amounts of 52 dollars and 63 dollars? What are the values and how many are there?\n",
    "\n",
    "You know what one of the lines represents. 62 dollars and 50 cents is the maximum that was imputed for outliers, so all former outliers will now have fare amounts of \\$62.50. What is the other line?\n",
    "\n",
    "Check the value of the rides in the second horizontal line in the scatter plot."
   ]
  },
  {
   "cell_type": "code",
   "execution_count": 54,
   "metadata": {},
   "outputs": [
    {
     "data": {
      "text/plain": [
       "fare_amount\n",
       "52.0    514\n",
       "62.5     84\n",
       "59.0      9\n",
       "50.5      9\n",
       "57.5      8\n",
       "Name: count, dtype: int64"
      ]
     },
     "execution_count": 54,
     "metadata": {},
     "output_type": "execute_result"
    }
   ],
   "source": [
    "df[df['fare_amount'] > 50]['fare_amount'].value_counts().head()"
   ]
  },
  {
   "cell_type": "markdown",
   "metadata": {},
   "source": [
    "Examine the first 30 of these trips."
   ]
  },
  {
   "cell_type": "code",
   "execution_count": 55,
   "metadata": {},
   "outputs": [
    {
     "data": {
      "text/html": [
       "<div>\n",
       "<style scoped>\n",
       "    .dataframe tbody tr th:only-of-type {\n",
       "        vertical-align: middle;\n",
       "    }\n",
       "\n",
       "    .dataframe tbody tr th {\n",
       "        vertical-align: top;\n",
       "    }\n",
       "\n",
       "    .dataframe thead th {\n",
       "        text-align: right;\n",
       "    }\n",
       "</style>\n",
       "<table border=\"1\" class=\"dataframe\">\n",
       "  <thead>\n",
       "    <tr style=\"text-align: right;\">\n",
       "      <th></th>\n",
       "      <th>Unnamed: 0</th>\n",
       "      <th>VendorID</th>\n",
       "      <th>tpep_pickup_datetime</th>\n",
       "      <th>tpep_dropoff_datetime</th>\n",
       "      <th>passenger_count</th>\n",
       "      <th>trip_distance</th>\n",
       "      <th>RatecodeID</th>\n",
       "      <th>store_and_fwd_flag</th>\n",
       "      <th>PULocationID</th>\n",
       "      <th>DOLocationID</th>\n",
       "      <th>payment_type</th>\n",
       "      <th>fare_amount</th>\n",
       "      <th>extra</th>\n",
       "      <th>mta_tax</th>\n",
       "      <th>tip_amount</th>\n",
       "      <th>tolls_amount</th>\n",
       "      <th>improvement_surcharge</th>\n",
       "      <th>total_amount</th>\n",
       "      <th>duration in minutes</th>\n",
       "      <th>pickup_dropoff</th>\n",
       "      <th>mean_distance</th>\n",
       "      <th>mean_duration</th>\n",
       "      <th>day</th>\n",
       "      <th>month</th>\n",
       "      <th>rush_hour</th>\n",
       "    </tr>\n",
       "  </thead>\n",
       "  <tbody>\n",
       "    <tr>\n",
       "      <th>11</th>\n",
       "      <td>18600059</td>\n",
       "      <td>2</td>\n",
       "      <td>2017-03-05 19:15:30</td>\n",
       "      <td>2017-03-05 19:52:18</td>\n",
       "      <td>2</td>\n",
       "      <td>18.90</td>\n",
       "      <td>2</td>\n",
       "      <td>N</td>\n",
       "      <td>236</td>\n",
       "      <td>132</td>\n",
       "      <td>1</td>\n",
       "      <td>52.0</td>\n",
       "      <td>0.0</td>\n",
       "      <td>0.5</td>\n",
       "      <td>14.58</td>\n",
       "      <td>5.54</td>\n",
       "      <td>0.3</td>\n",
       "      <td>72.92</td>\n",
       "      <td>36.800000</td>\n",
       "      <td>236 132</td>\n",
       "      <td>19.211667</td>\n",
       "      <td>40.500000</td>\n",
       "      <td>sunday</td>\n",
       "      <td>mar</td>\n",
       "      <td>0</td>\n",
       "    </tr>\n",
       "    <tr>\n",
       "      <th>110</th>\n",
       "      <td>47959795</td>\n",
       "      <td>1</td>\n",
       "      <td>2017-06-03 14:24:57</td>\n",
       "      <td>2017-06-03 15:31:48</td>\n",
       "      <td>1</td>\n",
       "      <td>18.00</td>\n",
       "      <td>2</td>\n",
       "      <td>N</td>\n",
       "      <td>132</td>\n",
       "      <td>163</td>\n",
       "      <td>1</td>\n",
       "      <td>52.0</td>\n",
       "      <td>0.0</td>\n",
       "      <td>0.5</td>\n",
       "      <td>0.00</td>\n",
       "      <td>0.00</td>\n",
       "      <td>0.3</td>\n",
       "      <td>52.80</td>\n",
       "      <td>66.850000</td>\n",
       "      <td>132 163</td>\n",
       "      <td>19.229000</td>\n",
       "      <td>52.941667</td>\n",
       "      <td>saturday</td>\n",
       "      <td>jun</td>\n",
       "      <td>0</td>\n",
       "    </tr>\n",
       "    <tr>\n",
       "      <th>161</th>\n",
       "      <td>95729204</td>\n",
       "      <td>2</td>\n",
       "      <td>2017-11-11 20:16:16</td>\n",
       "      <td>2017-11-11 20:17:14</td>\n",
       "      <td>1</td>\n",
       "      <td>0.23</td>\n",
       "      <td>2</td>\n",
       "      <td>N</td>\n",
       "      <td>132</td>\n",
       "      <td>132</td>\n",
       "      <td>2</td>\n",
       "      <td>52.0</td>\n",
       "      <td>0.0</td>\n",
       "      <td>0.5</td>\n",
       "      <td>0.00</td>\n",
       "      <td>0.00</td>\n",
       "      <td>0.3</td>\n",
       "      <td>52.80</td>\n",
       "      <td>0.966667</td>\n",
       "      <td>132 132</td>\n",
       "      <td>2.255862</td>\n",
       "      <td>3.021839</td>\n",
       "      <td>saturday</td>\n",
       "      <td>nov</td>\n",
       "      <td>0</td>\n",
       "    </tr>\n",
       "    <tr>\n",
       "      <th>247</th>\n",
       "      <td>103404868</td>\n",
       "      <td>2</td>\n",
       "      <td>2017-12-06 23:37:08</td>\n",
       "      <td>2017-12-07 00:06:19</td>\n",
       "      <td>1</td>\n",
       "      <td>18.93</td>\n",
       "      <td>2</td>\n",
       "      <td>N</td>\n",
       "      <td>132</td>\n",
       "      <td>79</td>\n",
       "      <td>2</td>\n",
       "      <td>52.0</td>\n",
       "      <td>0.0</td>\n",
       "      <td>0.5</td>\n",
       "      <td>0.00</td>\n",
       "      <td>0.00</td>\n",
       "      <td>0.3</td>\n",
       "      <td>52.80</td>\n",
       "      <td>29.183333</td>\n",
       "      <td>132 79</td>\n",
       "      <td>19.431667</td>\n",
       "      <td>47.275000</td>\n",
       "      <td>wednesday</td>\n",
       "      <td>dec</td>\n",
       "      <td>0</td>\n",
       "    </tr>\n",
       "    <tr>\n",
       "      <th>379</th>\n",
       "      <td>80479432</td>\n",
       "      <td>2</td>\n",
       "      <td>2017-09-24 23:45:45</td>\n",
       "      <td>2017-09-25 00:15:14</td>\n",
       "      <td>1</td>\n",
       "      <td>17.99</td>\n",
       "      <td>2</td>\n",
       "      <td>N</td>\n",
       "      <td>132</td>\n",
       "      <td>234</td>\n",
       "      <td>1</td>\n",
       "      <td>52.0</td>\n",
       "      <td>0.0</td>\n",
       "      <td>0.5</td>\n",
       "      <td>14.64</td>\n",
       "      <td>5.76</td>\n",
       "      <td>0.3</td>\n",
       "      <td>73.20</td>\n",
       "      <td>29.483333</td>\n",
       "      <td>132 234</td>\n",
       "      <td>17.654000</td>\n",
       "      <td>49.833333</td>\n",
       "      <td>sunday</td>\n",
       "      <td>sep</td>\n",
       "      <td>0</td>\n",
       "    </tr>\n",
       "    <tr>\n",
       "      <th>388</th>\n",
       "      <td>16226157</td>\n",
       "      <td>1</td>\n",
       "      <td>2017-02-28 18:30:05</td>\n",
       "      <td>2017-02-28 19:09:55</td>\n",
       "      <td>1</td>\n",
       "      <td>18.40</td>\n",
       "      <td>2</td>\n",
       "      <td>N</td>\n",
       "      <td>132</td>\n",
       "      <td>48</td>\n",
       "      <td>2</td>\n",
       "      <td>52.0</td>\n",
       "      <td>4.5</td>\n",
       "      <td>0.5</td>\n",
       "      <td>0.00</td>\n",
       "      <td>5.54</td>\n",
       "      <td>0.3</td>\n",
       "      <td>62.84</td>\n",
       "      <td>39.833333</td>\n",
       "      <td>132 48</td>\n",
       "      <td>18.761905</td>\n",
       "      <td>58.246032</td>\n",
       "      <td>tuesday</td>\n",
       "      <td>feb</td>\n",
       "      <td>1</td>\n",
       "    </tr>\n",
       "    <tr>\n",
       "      <th>406</th>\n",
       "      <td>55253442</td>\n",
       "      <td>2</td>\n",
       "      <td>2017-06-05 12:51:58</td>\n",
       "      <td>2017-06-05 13:07:35</td>\n",
       "      <td>1</td>\n",
       "      <td>4.73</td>\n",
       "      <td>2</td>\n",
       "      <td>N</td>\n",
       "      <td>228</td>\n",
       "      <td>88</td>\n",
       "      <td>2</td>\n",
       "      <td>52.0</td>\n",
       "      <td>0.0</td>\n",
       "      <td>0.5</td>\n",
       "      <td>0.00</td>\n",
       "      <td>5.76</td>\n",
       "      <td>0.3</td>\n",
       "      <td>58.56</td>\n",
       "      <td>15.616667</td>\n",
       "      <td>228 88</td>\n",
       "      <td>4.730000</td>\n",
       "      <td>15.616667</td>\n",
       "      <td>monday</td>\n",
       "      <td>jun</td>\n",
       "      <td>0</td>\n",
       "    </tr>\n",
       "    <tr>\n",
       "      <th>449</th>\n",
       "      <td>65900029</td>\n",
       "      <td>2</td>\n",
       "      <td>2017-08-03 22:47:14</td>\n",
       "      <td>2017-08-03 23:32:41</td>\n",
       "      <td>2</td>\n",
       "      <td>18.21</td>\n",
       "      <td>2</td>\n",
       "      <td>N</td>\n",
       "      <td>132</td>\n",
       "      <td>48</td>\n",
       "      <td>2</td>\n",
       "      <td>52.0</td>\n",
       "      <td>0.0</td>\n",
       "      <td>0.5</td>\n",
       "      <td>0.00</td>\n",
       "      <td>5.76</td>\n",
       "      <td>0.3</td>\n",
       "      <td>58.56</td>\n",
       "      <td>45.450000</td>\n",
       "      <td>132 48</td>\n",
       "      <td>18.761905</td>\n",
       "      <td>58.246032</td>\n",
       "      <td>thursday</td>\n",
       "      <td>aug</td>\n",
       "      <td>0</td>\n",
       "    </tr>\n",
       "    <tr>\n",
       "      <th>468</th>\n",
       "      <td>80904240</td>\n",
       "      <td>2</td>\n",
       "      <td>2017-09-26 13:48:26</td>\n",
       "      <td>2017-09-26 14:31:17</td>\n",
       "      <td>1</td>\n",
       "      <td>17.27</td>\n",
       "      <td>2</td>\n",
       "      <td>N</td>\n",
       "      <td>186</td>\n",
       "      <td>132</td>\n",
       "      <td>2</td>\n",
       "      <td>52.0</td>\n",
       "      <td>0.0</td>\n",
       "      <td>0.5</td>\n",
       "      <td>0.00</td>\n",
       "      <td>5.76</td>\n",
       "      <td>0.3</td>\n",
       "      <td>58.56</td>\n",
       "      <td>42.850000</td>\n",
       "      <td>186 132</td>\n",
       "      <td>17.096000</td>\n",
       "      <td>42.920000</td>\n",
       "      <td>tuesday</td>\n",
       "      <td>sep</td>\n",
       "      <td>0</td>\n",
       "    </tr>\n",
       "    <tr>\n",
       "      <th>520</th>\n",
       "      <td>33706214</td>\n",
       "      <td>2</td>\n",
       "      <td>2017-04-23 21:34:48</td>\n",
       "      <td>2017-04-23 22:46:23</td>\n",
       "      <td>6</td>\n",
       "      <td>18.34</td>\n",
       "      <td>2</td>\n",
       "      <td>N</td>\n",
       "      <td>132</td>\n",
       "      <td>148</td>\n",
       "      <td>1</td>\n",
       "      <td>52.0</td>\n",
       "      <td>0.0</td>\n",
       "      <td>0.5</td>\n",
       "      <td>5.00</td>\n",
       "      <td>0.00</td>\n",
       "      <td>0.3</td>\n",
       "      <td>57.80</td>\n",
       "      <td>71.583333</td>\n",
       "      <td>132 148</td>\n",
       "      <td>17.994286</td>\n",
       "      <td>46.340476</td>\n",
       "      <td>sunday</td>\n",
       "      <td>apr</td>\n",
       "      <td>0</td>\n",
       "    </tr>\n",
       "    <tr>\n",
       "      <th>569</th>\n",
       "      <td>99259872</td>\n",
       "      <td>2</td>\n",
       "      <td>2017-11-22 21:31:32</td>\n",
       "      <td>2017-11-22 22:00:25</td>\n",
       "      <td>1</td>\n",
       "      <td>18.65</td>\n",
       "      <td>2</td>\n",
       "      <td>N</td>\n",
       "      <td>132</td>\n",
       "      <td>144</td>\n",
       "      <td>1</td>\n",
       "      <td>52.0</td>\n",
       "      <td>0.0</td>\n",
       "      <td>0.5</td>\n",
       "      <td>10.56</td>\n",
       "      <td>0.00</td>\n",
       "      <td>0.3</td>\n",
       "      <td>63.36</td>\n",
       "      <td>28.883333</td>\n",
       "      <td>132 144</td>\n",
       "      <td>18.537500</td>\n",
       "      <td>37.000000</td>\n",
       "      <td>wednesday</td>\n",
       "      <td>nov</td>\n",
       "      <td>0</td>\n",
       "    </tr>\n",
       "    <tr>\n",
       "      <th>572</th>\n",
       "      <td>61050418</td>\n",
       "      <td>2</td>\n",
       "      <td>2017-07-18 13:29:06</td>\n",
       "      <td>2017-07-18 13:29:19</td>\n",
       "      <td>1</td>\n",
       "      <td>0.00</td>\n",
       "      <td>2</td>\n",
       "      <td>N</td>\n",
       "      <td>230</td>\n",
       "      <td>161</td>\n",
       "      <td>1</td>\n",
       "      <td>52.0</td>\n",
       "      <td>0.0</td>\n",
       "      <td>0.5</td>\n",
       "      <td>11.71</td>\n",
       "      <td>5.76</td>\n",
       "      <td>0.3</td>\n",
       "      <td>70.27</td>\n",
       "      <td>0.216667</td>\n",
       "      <td>230 161</td>\n",
       "      <td>0.685484</td>\n",
       "      <td>7.965591</td>\n",
       "      <td>tuesday</td>\n",
       "      <td>jul</td>\n",
       "      <td>0</td>\n",
       "    </tr>\n",
       "    <tr>\n",
       "      <th>586</th>\n",
       "      <td>54444647</td>\n",
       "      <td>2</td>\n",
       "      <td>2017-06-26 13:39:12</td>\n",
       "      <td>2017-06-26 14:34:54</td>\n",
       "      <td>1</td>\n",
       "      <td>17.76</td>\n",
       "      <td>2</td>\n",
       "      <td>N</td>\n",
       "      <td>211</td>\n",
       "      <td>132</td>\n",
       "      <td>1</td>\n",
       "      <td>52.0</td>\n",
       "      <td>0.0</td>\n",
       "      <td>0.5</td>\n",
       "      <td>11.71</td>\n",
       "      <td>5.76</td>\n",
       "      <td>0.3</td>\n",
       "      <td>70.27</td>\n",
       "      <td>55.700000</td>\n",
       "      <td>211 132</td>\n",
       "      <td>16.580000</td>\n",
       "      <td>61.691667</td>\n",
       "      <td>monday</td>\n",
       "      <td>jun</td>\n",
       "      <td>0</td>\n",
       "    </tr>\n",
       "    <tr>\n",
       "      <th>692</th>\n",
       "      <td>94424289</td>\n",
       "      <td>2</td>\n",
       "      <td>2017-11-07 22:15:00</td>\n",
       "      <td>2017-11-07 22:45:32</td>\n",
       "      <td>2</td>\n",
       "      <td>16.97</td>\n",
       "      <td>2</td>\n",
       "      <td>N</td>\n",
       "      <td>132</td>\n",
       "      <td>170</td>\n",
       "      <td>1</td>\n",
       "      <td>52.0</td>\n",
       "      <td>0.0</td>\n",
       "      <td>0.5</td>\n",
       "      <td>11.71</td>\n",
       "      <td>5.76</td>\n",
       "      <td>0.3</td>\n",
       "      <td>70.27</td>\n",
       "      <td>30.533333</td>\n",
       "      <td>132 170</td>\n",
       "      <td>17.203000</td>\n",
       "      <td>37.113333</td>\n",
       "      <td>tuesday</td>\n",
       "      <td>nov</td>\n",
       "      <td>0</td>\n",
       "    </tr>\n",
       "    <tr>\n",
       "      <th>717</th>\n",
       "      <td>103094220</td>\n",
       "      <td>1</td>\n",
       "      <td>2017-12-06 05:19:50</td>\n",
       "      <td>2017-12-06 05:53:52</td>\n",
       "      <td>1</td>\n",
       "      <td>20.80</td>\n",
       "      <td>2</td>\n",
       "      <td>N</td>\n",
       "      <td>132</td>\n",
       "      <td>239</td>\n",
       "      <td>1</td>\n",
       "      <td>52.0</td>\n",
       "      <td>0.0</td>\n",
       "      <td>0.5</td>\n",
       "      <td>5.85</td>\n",
       "      <td>5.76</td>\n",
       "      <td>0.3</td>\n",
       "      <td>64.41</td>\n",
       "      <td>34.033333</td>\n",
       "      <td>132 239</td>\n",
       "      <td>20.901250</td>\n",
       "      <td>44.862500</td>\n",
       "      <td>wednesday</td>\n",
       "      <td>dec</td>\n",
       "      <td>0</td>\n",
       "    </tr>\n",
       "    <tr>\n",
       "      <th>719</th>\n",
       "      <td>66115834</td>\n",
       "      <td>1</td>\n",
       "      <td>2017-08-04 17:53:34</td>\n",
       "      <td>2017-08-04 18:50:56</td>\n",
       "      <td>1</td>\n",
       "      <td>21.60</td>\n",
       "      <td>2</td>\n",
       "      <td>N</td>\n",
       "      <td>264</td>\n",
       "      <td>264</td>\n",
       "      <td>1</td>\n",
       "      <td>52.0</td>\n",
       "      <td>4.5</td>\n",
       "      <td>0.5</td>\n",
       "      <td>12.60</td>\n",
       "      <td>5.76</td>\n",
       "      <td>0.3</td>\n",
       "      <td>75.66</td>\n",
       "      <td>57.366667</td>\n",
       "      <td>264 264</td>\n",
       "      <td>3.191516</td>\n",
       "      <td>15.618773</td>\n",
       "      <td>friday</td>\n",
       "      <td>aug</td>\n",
       "      <td>1</td>\n",
       "    </tr>\n",
       "    <tr>\n",
       "      <th>782</th>\n",
       "      <td>55934137</td>\n",
       "      <td>2</td>\n",
       "      <td>2017-06-09 09:31:25</td>\n",
       "      <td>2017-06-09 10:24:10</td>\n",
       "      <td>2</td>\n",
       "      <td>18.81</td>\n",
       "      <td>2</td>\n",
       "      <td>N</td>\n",
       "      <td>163</td>\n",
       "      <td>132</td>\n",
       "      <td>1</td>\n",
       "      <td>52.0</td>\n",
       "      <td>0.0</td>\n",
       "      <td>0.5</td>\n",
       "      <td>13.20</td>\n",
       "      <td>0.00</td>\n",
       "      <td>0.3</td>\n",
       "      <td>66.00</td>\n",
       "      <td>52.750000</td>\n",
       "      <td>163 132</td>\n",
       "      <td>17.275833</td>\n",
       "      <td>52.338889</td>\n",
       "      <td>friday</td>\n",
       "      <td>jun</td>\n",
       "      <td>1</td>\n",
       "    </tr>\n",
       "    <tr>\n",
       "      <th>816</th>\n",
       "      <td>13731926</td>\n",
       "      <td>2</td>\n",
       "      <td>2017-02-21 06:11:03</td>\n",
       "      <td>2017-02-21 06:59:39</td>\n",
       "      <td>5</td>\n",
       "      <td>16.94</td>\n",
       "      <td>2</td>\n",
       "      <td>N</td>\n",
       "      <td>132</td>\n",
       "      <td>170</td>\n",
       "      <td>1</td>\n",
       "      <td>52.0</td>\n",
       "      <td>0.0</td>\n",
       "      <td>0.5</td>\n",
       "      <td>2.00</td>\n",
       "      <td>5.54</td>\n",
       "      <td>0.3</td>\n",
       "      <td>60.34</td>\n",
       "      <td>48.600000</td>\n",
       "      <td>132 170</td>\n",
       "      <td>17.203000</td>\n",
       "      <td>37.113333</td>\n",
       "      <td>tuesday</td>\n",
       "      <td>feb</td>\n",
       "      <td>1</td>\n",
       "    </tr>\n",
       "    <tr>\n",
       "      <th>818</th>\n",
       "      <td>52277743</td>\n",
       "      <td>2</td>\n",
       "      <td>2017-06-20 08:15:18</td>\n",
       "      <td>2017-06-20 10:24:37</td>\n",
       "      <td>1</td>\n",
       "      <td>17.77</td>\n",
       "      <td>2</td>\n",
       "      <td>N</td>\n",
       "      <td>132</td>\n",
       "      <td>246</td>\n",
       "      <td>1</td>\n",
       "      <td>52.0</td>\n",
       "      <td>0.0</td>\n",
       "      <td>0.5</td>\n",
       "      <td>11.71</td>\n",
       "      <td>5.76</td>\n",
       "      <td>0.3</td>\n",
       "      <td>70.27</td>\n",
       "      <td>88.783333</td>\n",
       "      <td>132 246</td>\n",
       "      <td>18.515000</td>\n",
       "      <td>66.316667</td>\n",
       "      <td>tuesday</td>\n",
       "      <td>jun</td>\n",
       "      <td>1</td>\n",
       "    </tr>\n",
       "    <tr>\n",
       "      <th>835</th>\n",
       "      <td>2684305</td>\n",
       "      <td>2</td>\n",
       "      <td>2017-01-10 22:29:47</td>\n",
       "      <td>2017-01-10 23:06:46</td>\n",
       "      <td>1</td>\n",
       "      <td>18.57</td>\n",
       "      <td>2</td>\n",
       "      <td>N</td>\n",
       "      <td>132</td>\n",
       "      <td>48</td>\n",
       "      <td>1</td>\n",
       "      <td>52.0</td>\n",
       "      <td>0.0</td>\n",
       "      <td>0.5</td>\n",
       "      <td>13.20</td>\n",
       "      <td>0.00</td>\n",
       "      <td>0.3</td>\n",
       "      <td>66.00</td>\n",
       "      <td>36.983333</td>\n",
       "      <td>132 48</td>\n",
       "      <td>18.761905</td>\n",
       "      <td>58.246032</td>\n",
       "      <td>tuesday</td>\n",
       "      <td>jan</td>\n",
       "      <td>0</td>\n",
       "    </tr>\n",
       "    <tr>\n",
       "      <th>840</th>\n",
       "      <td>90860814</td>\n",
       "      <td>2</td>\n",
       "      <td>2017-10-27 21:50:00</td>\n",
       "      <td>2017-10-27 22:35:04</td>\n",
       "      <td>1</td>\n",
       "      <td>22.43</td>\n",
       "      <td>2</td>\n",
       "      <td>N</td>\n",
       "      <td>132</td>\n",
       "      <td>163</td>\n",
       "      <td>2</td>\n",
       "      <td>52.0</td>\n",
       "      <td>0.0</td>\n",
       "      <td>0.5</td>\n",
       "      <td>0.00</td>\n",
       "      <td>5.76</td>\n",
       "      <td>0.3</td>\n",
       "      <td>58.56</td>\n",
       "      <td>45.066667</td>\n",
       "      <td>132 163</td>\n",
       "      <td>19.229000</td>\n",
       "      <td>52.941667</td>\n",
       "      <td>friday</td>\n",
       "      <td>oct</td>\n",
       "      <td>0</td>\n",
       "    </tr>\n",
       "    <tr>\n",
       "      <th>861</th>\n",
       "      <td>106575186</td>\n",
       "      <td>1</td>\n",
       "      <td>2017-12-16 06:39:59</td>\n",
       "      <td>2017-12-16 07:07:59</td>\n",
       "      <td>2</td>\n",
       "      <td>17.80</td>\n",
       "      <td>2</td>\n",
       "      <td>N</td>\n",
       "      <td>75</td>\n",
       "      <td>132</td>\n",
       "      <td>1</td>\n",
       "      <td>52.0</td>\n",
       "      <td>0.0</td>\n",
       "      <td>0.5</td>\n",
       "      <td>6.00</td>\n",
       "      <td>5.76</td>\n",
       "      <td>0.3</td>\n",
       "      <td>64.56</td>\n",
       "      <td>28.000000</td>\n",
       "      <td>75 132</td>\n",
       "      <td>18.442500</td>\n",
       "      <td>36.204167</td>\n",
       "      <td>saturday</td>\n",
       "      <td>dec</td>\n",
       "      <td>0</td>\n",
       "    </tr>\n",
       "    <tr>\n",
       "      <th>881</th>\n",
       "      <td>110495611</td>\n",
       "      <td>2</td>\n",
       "      <td>2017-12-30 05:25:29</td>\n",
       "      <td>2017-12-30 06:01:29</td>\n",
       "      <td>6</td>\n",
       "      <td>18.23</td>\n",
       "      <td>2</td>\n",
       "      <td>N</td>\n",
       "      <td>68</td>\n",
       "      <td>132</td>\n",
       "      <td>2</td>\n",
       "      <td>52.0</td>\n",
       "      <td>0.0</td>\n",
       "      <td>0.5</td>\n",
       "      <td>0.00</td>\n",
       "      <td>0.00</td>\n",
       "      <td>0.3</td>\n",
       "      <td>52.80</td>\n",
       "      <td>36.000000</td>\n",
       "      <td>68 132</td>\n",
       "      <td>18.785000</td>\n",
       "      <td>58.041667</td>\n",
       "      <td>saturday</td>\n",
       "      <td>dec</td>\n",
       "      <td>0</td>\n",
       "    </tr>\n",
       "    <tr>\n",
       "      <th>958</th>\n",
       "      <td>87017503</td>\n",
       "      <td>1</td>\n",
       "      <td>2017-10-15 22:39:12</td>\n",
       "      <td>2017-10-15 23:14:22</td>\n",
       "      <td>1</td>\n",
       "      <td>21.80</td>\n",
       "      <td>2</td>\n",
       "      <td>N</td>\n",
       "      <td>132</td>\n",
       "      <td>261</td>\n",
       "      <td>2</td>\n",
       "      <td>52.0</td>\n",
       "      <td>0.0</td>\n",
       "      <td>0.5</td>\n",
       "      <td>0.00</td>\n",
       "      <td>0.00</td>\n",
       "      <td>0.3</td>\n",
       "      <td>52.80</td>\n",
       "      <td>35.166667</td>\n",
       "      <td>132 261</td>\n",
       "      <td>22.115000</td>\n",
       "      <td>51.493750</td>\n",
       "      <td>sunday</td>\n",
       "      <td>oct</td>\n",
       "      <td>0</td>\n",
       "    </tr>\n",
       "    <tr>\n",
       "      <th>970</th>\n",
       "      <td>12762608</td>\n",
       "      <td>2</td>\n",
       "      <td>2017-02-17 20:39:42</td>\n",
       "      <td>2017-02-17 21:13:29</td>\n",
       "      <td>1</td>\n",
       "      <td>19.57</td>\n",
       "      <td>2</td>\n",
       "      <td>N</td>\n",
       "      <td>132</td>\n",
       "      <td>140</td>\n",
       "      <td>1</td>\n",
       "      <td>52.0</td>\n",
       "      <td>0.0</td>\n",
       "      <td>0.5</td>\n",
       "      <td>11.67</td>\n",
       "      <td>5.54</td>\n",
       "      <td>0.3</td>\n",
       "      <td>70.01</td>\n",
       "      <td>33.783333</td>\n",
       "      <td>132 140</td>\n",
       "      <td>19.293333</td>\n",
       "      <td>36.791667</td>\n",
       "      <td>friday</td>\n",
       "      <td>feb</td>\n",
       "      <td>0</td>\n",
       "    </tr>\n",
       "    <tr>\n",
       "      <th>984</th>\n",
       "      <td>71264442</td>\n",
       "      <td>1</td>\n",
       "      <td>2017-08-23 18:23:26</td>\n",
       "      <td>2017-08-23 19:18:29</td>\n",
       "      <td>1</td>\n",
       "      <td>16.70</td>\n",
       "      <td>2</td>\n",
       "      <td>N</td>\n",
       "      <td>132</td>\n",
       "      <td>230</td>\n",
       "      <td>1</td>\n",
       "      <td>52.0</td>\n",
       "      <td>4.5</td>\n",
       "      <td>0.5</td>\n",
       "      <td>42.29</td>\n",
       "      <td>0.00</td>\n",
       "      <td>0.3</td>\n",
       "      <td>99.59</td>\n",
       "      <td>55.050000</td>\n",
       "      <td>132 230</td>\n",
       "      <td>18.571200</td>\n",
       "      <td>59.598000</td>\n",
       "      <td>wednesday</td>\n",
       "      <td>aug</td>\n",
       "      <td>1</td>\n",
       "    </tr>\n",
       "    <tr>\n",
       "      <th>1082</th>\n",
       "      <td>11006300</td>\n",
       "      <td>2</td>\n",
       "      <td>2017-02-07 17:20:19</td>\n",
       "      <td>2017-02-07 17:34:41</td>\n",
       "      <td>1</td>\n",
       "      <td>1.09</td>\n",
       "      <td>2</td>\n",
       "      <td>N</td>\n",
       "      <td>170</td>\n",
       "      <td>48</td>\n",
       "      <td>2</td>\n",
       "      <td>52.0</td>\n",
       "      <td>4.5</td>\n",
       "      <td>0.5</td>\n",
       "      <td>0.00</td>\n",
       "      <td>5.54</td>\n",
       "      <td>0.3</td>\n",
       "      <td>62.84</td>\n",
       "      <td>14.366667</td>\n",
       "      <td>170 48</td>\n",
       "      <td>1.265789</td>\n",
       "      <td>14.135965</td>\n",
       "      <td>tuesday</td>\n",
       "      <td>feb</td>\n",
       "      <td>1</td>\n",
       "    </tr>\n",
       "    <tr>\n",
       "      <th>1097</th>\n",
       "      <td>68882036</td>\n",
       "      <td>2</td>\n",
       "      <td>2017-08-14 23:01:15</td>\n",
       "      <td>2017-08-14 23:03:35</td>\n",
       "      <td>5</td>\n",
       "      <td>2.12</td>\n",
       "      <td>2</td>\n",
       "      <td>N</td>\n",
       "      <td>265</td>\n",
       "      <td>265</td>\n",
       "      <td>2</td>\n",
       "      <td>52.0</td>\n",
       "      <td>0.0</td>\n",
       "      <td>0.5</td>\n",
       "      <td>0.00</td>\n",
       "      <td>0.00</td>\n",
       "      <td>0.3</td>\n",
       "      <td>52.80</td>\n",
       "      <td>2.333333</td>\n",
       "      <td>265 265</td>\n",
       "      <td>0.753077</td>\n",
       "      <td>3.411538</td>\n",
       "      <td>monday</td>\n",
       "      <td>aug</td>\n",
       "      <td>0</td>\n",
       "    </tr>\n",
       "    <tr>\n",
       "      <th>1110</th>\n",
       "      <td>74720333</td>\n",
       "      <td>1</td>\n",
       "      <td>2017-09-06 10:46:17</td>\n",
       "      <td>2017-09-06 11:44:41</td>\n",
       "      <td>1</td>\n",
       "      <td>19.10</td>\n",
       "      <td>2</td>\n",
       "      <td>N</td>\n",
       "      <td>239</td>\n",
       "      <td>132</td>\n",
       "      <td>1</td>\n",
       "      <td>52.0</td>\n",
       "      <td>0.0</td>\n",
       "      <td>0.5</td>\n",
       "      <td>15.80</td>\n",
       "      <td>0.00</td>\n",
       "      <td>0.3</td>\n",
       "      <td>68.60</td>\n",
       "      <td>58.400000</td>\n",
       "      <td>239 132</td>\n",
       "      <td>19.795000</td>\n",
       "      <td>50.562500</td>\n",
       "      <td>wednesday</td>\n",
       "      <td>sep</td>\n",
       "      <td>0</td>\n",
       "    </tr>\n",
       "    <tr>\n",
       "      <th>1179</th>\n",
       "      <td>51937907</td>\n",
       "      <td>2</td>\n",
       "      <td>2017-06-19 06:23:13</td>\n",
       "      <td>2017-06-19 07:03:53</td>\n",
       "      <td>6</td>\n",
       "      <td>19.77</td>\n",
       "      <td>2</td>\n",
       "      <td>N</td>\n",
       "      <td>238</td>\n",
       "      <td>132</td>\n",
       "      <td>1</td>\n",
       "      <td>52.0</td>\n",
       "      <td>0.0</td>\n",
       "      <td>0.5</td>\n",
       "      <td>17.57</td>\n",
       "      <td>5.76</td>\n",
       "      <td>0.3</td>\n",
       "      <td>76.13</td>\n",
       "      <td>40.666667</td>\n",
       "      <td>238 132</td>\n",
       "      <td>19.470000</td>\n",
       "      <td>53.861111</td>\n",
       "      <td>monday</td>\n",
       "      <td>jun</td>\n",
       "      <td>1</td>\n",
       "    </tr>\n",
       "  </tbody>\n",
       "</table>\n",
       "</div>"
      ],
      "text/plain": [
       "      Unnamed: 0  VendorID tpep_pickup_datetime tpep_dropoff_datetime  \\\n",
       "11      18600059         2  2017-03-05 19:15:30   2017-03-05 19:52:18   \n",
       "110     47959795         1  2017-06-03 14:24:57   2017-06-03 15:31:48   \n",
       "161     95729204         2  2017-11-11 20:16:16   2017-11-11 20:17:14   \n",
       "247    103404868         2  2017-12-06 23:37:08   2017-12-07 00:06:19   \n",
       "379     80479432         2  2017-09-24 23:45:45   2017-09-25 00:15:14   \n",
       "388     16226157         1  2017-02-28 18:30:05   2017-02-28 19:09:55   \n",
       "406     55253442         2  2017-06-05 12:51:58   2017-06-05 13:07:35   \n",
       "449     65900029         2  2017-08-03 22:47:14   2017-08-03 23:32:41   \n",
       "468     80904240         2  2017-09-26 13:48:26   2017-09-26 14:31:17   \n",
       "520     33706214         2  2017-04-23 21:34:48   2017-04-23 22:46:23   \n",
       "569     99259872         2  2017-11-22 21:31:32   2017-11-22 22:00:25   \n",
       "572     61050418         2  2017-07-18 13:29:06   2017-07-18 13:29:19   \n",
       "586     54444647         2  2017-06-26 13:39:12   2017-06-26 14:34:54   \n",
       "692     94424289         2  2017-11-07 22:15:00   2017-11-07 22:45:32   \n",
       "717    103094220         1  2017-12-06 05:19:50   2017-12-06 05:53:52   \n",
       "719     66115834         1  2017-08-04 17:53:34   2017-08-04 18:50:56   \n",
       "782     55934137         2  2017-06-09 09:31:25   2017-06-09 10:24:10   \n",
       "816     13731926         2  2017-02-21 06:11:03   2017-02-21 06:59:39   \n",
       "818     52277743         2  2017-06-20 08:15:18   2017-06-20 10:24:37   \n",
       "835      2684305         2  2017-01-10 22:29:47   2017-01-10 23:06:46   \n",
       "840     90860814         2  2017-10-27 21:50:00   2017-10-27 22:35:04   \n",
       "861    106575186         1  2017-12-16 06:39:59   2017-12-16 07:07:59   \n",
       "881    110495611         2  2017-12-30 05:25:29   2017-12-30 06:01:29   \n",
       "958     87017503         1  2017-10-15 22:39:12   2017-10-15 23:14:22   \n",
       "970     12762608         2  2017-02-17 20:39:42   2017-02-17 21:13:29   \n",
       "984     71264442         1  2017-08-23 18:23:26   2017-08-23 19:18:29   \n",
       "1082    11006300         2  2017-02-07 17:20:19   2017-02-07 17:34:41   \n",
       "1097    68882036         2  2017-08-14 23:01:15   2017-08-14 23:03:35   \n",
       "1110    74720333         1  2017-09-06 10:46:17   2017-09-06 11:44:41   \n",
       "1179    51937907         2  2017-06-19 06:23:13   2017-06-19 07:03:53   \n",
       "\n",
       "      passenger_count  trip_distance  RatecodeID store_and_fwd_flag  \\\n",
       "11                  2          18.90           2                  N   \n",
       "110                 1          18.00           2                  N   \n",
       "161                 1           0.23           2                  N   \n",
       "247                 1          18.93           2                  N   \n",
       "379                 1          17.99           2                  N   \n",
       "388                 1          18.40           2                  N   \n",
       "406                 1           4.73           2                  N   \n",
       "449                 2          18.21           2                  N   \n",
       "468                 1          17.27           2                  N   \n",
       "520                 6          18.34           2                  N   \n",
       "569                 1          18.65           2                  N   \n",
       "572                 1           0.00           2                  N   \n",
       "586                 1          17.76           2                  N   \n",
       "692                 2          16.97           2                  N   \n",
       "717                 1          20.80           2                  N   \n",
       "719                 1          21.60           2                  N   \n",
       "782                 2          18.81           2                  N   \n",
       "816                 5          16.94           2                  N   \n",
       "818                 1          17.77           2                  N   \n",
       "835                 1          18.57           2                  N   \n",
       "840                 1          22.43           2                  N   \n",
       "861                 2          17.80           2                  N   \n",
       "881                 6          18.23           2                  N   \n",
       "958                 1          21.80           2                  N   \n",
       "970                 1          19.57           2                  N   \n",
       "984                 1          16.70           2                  N   \n",
       "1082                1           1.09           2                  N   \n",
       "1097                5           2.12           2                  N   \n",
       "1110                1          19.10           2                  N   \n",
       "1179                6          19.77           2                  N   \n",
       "\n",
       "      PULocationID  DOLocationID  payment_type  fare_amount  extra  mta_tax  \\\n",
       "11             236           132             1         52.0    0.0      0.5   \n",
       "110            132           163             1         52.0    0.0      0.5   \n",
       "161            132           132             2         52.0    0.0      0.5   \n",
       "247            132            79             2         52.0    0.0      0.5   \n",
       "379            132           234             1         52.0    0.0      0.5   \n",
       "388            132            48             2         52.0    4.5      0.5   \n",
       "406            228            88             2         52.0    0.0      0.5   \n",
       "449            132            48             2         52.0    0.0      0.5   \n",
       "468            186           132             2         52.0    0.0      0.5   \n",
       "520            132           148             1         52.0    0.0      0.5   \n",
       "569            132           144             1         52.0    0.0      0.5   \n",
       "572            230           161             1         52.0    0.0      0.5   \n",
       "586            211           132             1         52.0    0.0      0.5   \n",
       "692            132           170             1         52.0    0.0      0.5   \n",
       "717            132           239             1         52.0    0.0      0.5   \n",
       "719            264           264             1         52.0    4.5      0.5   \n",
       "782            163           132             1         52.0    0.0      0.5   \n",
       "816            132           170             1         52.0    0.0      0.5   \n",
       "818            132           246             1         52.0    0.0      0.5   \n",
       "835            132            48             1         52.0    0.0      0.5   \n",
       "840            132           163             2         52.0    0.0      0.5   \n",
       "861             75           132             1         52.0    0.0      0.5   \n",
       "881             68           132             2         52.0    0.0      0.5   \n",
       "958            132           261             2         52.0    0.0      0.5   \n",
       "970            132           140             1         52.0    0.0      0.5   \n",
       "984            132           230             1         52.0    4.5      0.5   \n",
       "1082           170            48             2         52.0    4.5      0.5   \n",
       "1097           265           265             2         52.0    0.0      0.5   \n",
       "1110           239           132             1         52.0    0.0      0.5   \n",
       "1179           238           132             1         52.0    0.0      0.5   \n",
       "\n",
       "      tip_amount  tolls_amount  improvement_surcharge  total_amount  \\\n",
       "11         14.58          5.54                    0.3         72.92   \n",
       "110         0.00          0.00                    0.3         52.80   \n",
       "161         0.00          0.00                    0.3         52.80   \n",
       "247         0.00          0.00                    0.3         52.80   \n",
       "379        14.64          5.76                    0.3         73.20   \n",
       "388         0.00          5.54                    0.3         62.84   \n",
       "406         0.00          5.76                    0.3         58.56   \n",
       "449         0.00          5.76                    0.3         58.56   \n",
       "468         0.00          5.76                    0.3         58.56   \n",
       "520         5.00          0.00                    0.3         57.80   \n",
       "569        10.56          0.00                    0.3         63.36   \n",
       "572        11.71          5.76                    0.3         70.27   \n",
       "586        11.71          5.76                    0.3         70.27   \n",
       "692        11.71          5.76                    0.3         70.27   \n",
       "717         5.85          5.76                    0.3         64.41   \n",
       "719        12.60          5.76                    0.3         75.66   \n",
       "782        13.20          0.00                    0.3         66.00   \n",
       "816         2.00          5.54                    0.3         60.34   \n",
       "818        11.71          5.76                    0.3         70.27   \n",
       "835        13.20          0.00                    0.3         66.00   \n",
       "840         0.00          5.76                    0.3         58.56   \n",
       "861         6.00          5.76                    0.3         64.56   \n",
       "881         0.00          0.00                    0.3         52.80   \n",
       "958         0.00          0.00                    0.3         52.80   \n",
       "970        11.67          5.54                    0.3         70.01   \n",
       "984        42.29          0.00                    0.3         99.59   \n",
       "1082        0.00          5.54                    0.3         62.84   \n",
       "1097        0.00          0.00                    0.3         52.80   \n",
       "1110       15.80          0.00                    0.3         68.60   \n",
       "1179       17.57          5.76                    0.3         76.13   \n",
       "\n",
       "      duration in minutes pickup_dropoff  mean_distance  mean_duration  \\\n",
       "11              36.800000        236 132      19.211667      40.500000   \n",
       "110             66.850000        132 163      19.229000      52.941667   \n",
       "161              0.966667        132 132       2.255862       3.021839   \n",
       "247             29.183333         132 79      19.431667      47.275000   \n",
       "379             29.483333        132 234      17.654000      49.833333   \n",
       "388             39.833333         132 48      18.761905      58.246032   \n",
       "406             15.616667         228 88       4.730000      15.616667   \n",
       "449             45.450000         132 48      18.761905      58.246032   \n",
       "468             42.850000        186 132      17.096000      42.920000   \n",
       "520             71.583333        132 148      17.994286      46.340476   \n",
       "569             28.883333        132 144      18.537500      37.000000   \n",
       "572              0.216667        230 161       0.685484       7.965591   \n",
       "586             55.700000        211 132      16.580000      61.691667   \n",
       "692             30.533333        132 170      17.203000      37.113333   \n",
       "717             34.033333        132 239      20.901250      44.862500   \n",
       "719             57.366667        264 264       3.191516      15.618773   \n",
       "782             52.750000        163 132      17.275833      52.338889   \n",
       "816             48.600000        132 170      17.203000      37.113333   \n",
       "818             88.783333        132 246      18.515000      66.316667   \n",
       "835             36.983333         132 48      18.761905      58.246032   \n",
       "840             45.066667        132 163      19.229000      52.941667   \n",
       "861             28.000000         75 132      18.442500      36.204167   \n",
       "881             36.000000         68 132      18.785000      58.041667   \n",
       "958             35.166667        132 261      22.115000      51.493750   \n",
       "970             33.783333        132 140      19.293333      36.791667   \n",
       "984             55.050000        132 230      18.571200      59.598000   \n",
       "1082            14.366667         170 48       1.265789      14.135965   \n",
       "1097             2.333333        265 265       0.753077       3.411538   \n",
       "1110            58.400000        239 132      19.795000      50.562500   \n",
       "1179            40.666667        238 132      19.470000      53.861111   \n",
       "\n",
       "            day month  rush_hour  \n",
       "11       sunday   mar          0  \n",
       "110    saturday   jun          0  \n",
       "161    saturday   nov          0  \n",
       "247   wednesday   dec          0  \n",
       "379      sunday   sep          0  \n",
       "388     tuesday   feb          1  \n",
       "406      monday   jun          0  \n",
       "449    thursday   aug          0  \n",
       "468     tuesday   sep          0  \n",
       "520      sunday   apr          0  \n",
       "569   wednesday   nov          0  \n",
       "572     tuesday   jul          0  \n",
       "586      monday   jun          0  \n",
       "692     tuesday   nov          0  \n",
       "717   wednesday   dec          0  \n",
       "719      friday   aug          1  \n",
       "782      friday   jun          1  \n",
       "816     tuesday   feb          1  \n",
       "818     tuesday   jun          1  \n",
       "835     tuesday   jan          0  \n",
       "840      friday   oct          0  \n",
       "861    saturday   dec          0  \n",
       "881    saturday   dec          0  \n",
       "958      sunday   oct          0  \n",
       "970      friday   feb          0  \n",
       "984   wednesday   aug          1  \n",
       "1082    tuesday   feb          1  \n",
       "1097     monday   aug          0  \n",
       "1110  wednesday   sep          0  \n",
       "1179     monday   jun          1  "
      ]
     },
     "execution_count": 55,
     "metadata": {},
     "output_type": "execute_result"
    }
   ],
   "source": [
    "# Set pandas to display all columns\n",
    "pd.set_option('display.max_columns', None)\n",
    "df[df['fare_amount']==52].head(30)"
   ]
  },
  {
   "cell_type": "markdown",
   "metadata": {},
   "source": [
    "**Question:** What do you notice about the first 30 trips?\n",
    "\n",
    "It seems that almost all of the trips in the first 30 rows where the fare amount was \\$52 either begin or end at location 132, and all of them have a `RatecodeID` of 2.\n",
    "\n",
    "There is no readily apparent reason why PULocation 132 should have so many fares of 52 dollars. They seem to occur on all different days, at different times, with both vendors, in all months. However, there are many toll amounts of $5.76 and \\\\$5.54. This would seem to indicate that location 132 is in an area that frequently requires tolls to get to and from. It's likely this is an airport.\n",
    "\n",
    "\n",
    "The data dictionary says that `RatecodeID` of 2 indicates trips for JFK, which is John F. Kennedy International Airport. A quick Google search for \"new york city taxi flat rate \\$52\" indicates that in 2017 (the year that this data was collected) there was indeed a flat fare for taxi trips between JFK airport (in Queens) and Manhattan.\n",
    "\n",
    "Because `RatecodeID` is known from the data dictionary, the values for this rate code can be imputed back into the data after the model makes its predictions. This way you know that those data points will always be correct."
   ]
  },
  {
   "cell_type": "markdown",
   "metadata": {},
   "source": [
    "### Task 5. Isolate modeling variables\n",
    "\n",
    "Drop features that are redundant, irrelevant, or that will not be available in a deployed environment."
   ]
  },
  {
   "cell_type": "code",
   "execution_count": 56,
   "metadata": {},
   "outputs": [
    {
     "name": "stdout",
     "output_type": "stream",
     "text": [
      "<class 'pandas.core.frame.DataFrame'>\n",
      "RangeIndex: 22699 entries, 0 to 22698\n",
      "Data columns (total 25 columns):\n",
      " #   Column                 Non-Null Count  Dtype         \n",
      "---  ------                 --------------  -----         \n",
      " 0   Unnamed: 0             22699 non-null  int64         \n",
      " 1   VendorID               22699 non-null  int64         \n",
      " 2   tpep_pickup_datetime   22699 non-null  datetime64[ns]\n",
      " 3   tpep_dropoff_datetime  22699 non-null  datetime64[ns]\n",
      " 4   passenger_count        22699 non-null  int64         \n",
      " 5   trip_distance          22699 non-null  float64       \n",
      " 6   RatecodeID             22699 non-null  int64         \n",
      " 7   store_and_fwd_flag     22699 non-null  object        \n",
      " 8   PULocationID           22699 non-null  int64         \n",
      " 9   DOLocationID           22699 non-null  int64         \n",
      " 10  payment_type           22699 non-null  int64         \n",
      " 11  fare_amount            22699 non-null  float64       \n",
      " 12  extra                  22699 non-null  float64       \n",
      " 13  mta_tax                22699 non-null  float64       \n",
      " 14  tip_amount             22699 non-null  float64       \n",
      " 15  tolls_amount           22699 non-null  float64       \n",
      " 16  improvement_surcharge  22699 non-null  float64       \n",
      " 17  total_amount           22699 non-null  float64       \n",
      " 18  duration in minutes    22699 non-null  float64       \n",
      " 19  pickup_dropoff         22699 non-null  object        \n",
      " 20  mean_distance          22699 non-null  float64       \n",
      " 21  mean_duration          22699 non-null  float64       \n",
      " 22  day                    22699 non-null  object        \n",
      " 23  month                  22699 non-null  object        \n",
      " 24  rush_hour              22699 non-null  int64         \n",
      "dtypes: datetime64[ns](2), float64(11), int64(8), object(4)\n",
      "memory usage: 4.3+ MB\n"
     ]
    }
   ],
   "source": [
    "df.info()"
   ]
  },
  {
   "cell_type": "code",
   "execution_count": 58,
   "metadata": {},
   "outputs": [
    {
     "name": "stdout",
     "output_type": "stream",
     "text": [
      "<class 'pandas.core.frame.DataFrame'>\n",
      "RangeIndex: 22699 entries, 0 to 22698\n",
      "Data columns (total 6 columns):\n",
      " #   Column           Non-Null Count  Dtype  \n",
      "---  ------           --------------  -----  \n",
      " 0   VendorID         22699 non-null  int64  \n",
      " 1   passenger_count  22699 non-null  int64  \n",
      " 2   fare_amount      22699 non-null  float64\n",
      " 3   mean_distance    22699 non-null  float64\n",
      " 4   mean_duration    22699 non-null  float64\n",
      " 5   rush_hour        22699 non-null  int64  \n",
      "dtypes: float64(3), int64(3)\n",
      "memory usage: 1.0 MB\n"
     ]
    }
   ],
   "source": [
    "df2 = df.copy()\n",
    "\n",
    "df2 = df2.drop(['Unnamed: 0', 'tpep_dropoff_datetime', 'tpep_pickup_datetime',\n",
    "               'trip_distance', 'RatecodeID', 'store_and_fwd_flag', 'PULocationID', 'DOLocationID',\n",
    "               'payment_type', 'extra', 'mta_tax', 'tip_amount', 'tolls_amount', 'improvement_surcharge',\n",
    "               'total_amount', 'tpep_dropoff_datetime', 'tpep_pickup_datetime', 'duration in minutes',\n",
    "               'pickup_dropoff', 'day', 'month'\n",
    "               ], axis=1)\n",
    "\n",
    "df2.info()"
   ]
  },
  {
   "cell_type": "markdown",
   "metadata": {},
   "source": [
    "### Task 6. Pair plot\n",
    "\n",
    "Create a pairplot to visualize pairwise relationships between `fare_amount`, `mean_duration`, and `mean_distance`."
   ]
  },
  {
   "cell_type": "code",
   "execution_count": 59,
   "metadata": {},
   "outputs": [
    {
     "name": "stderr",
     "output_type": "stream",
     "text": [
      "/Users/srivyshnavigopalam/anaconda3/lib/python3.11/site-packages/seaborn/axisgrid.py:118: UserWarning: The figure layout has changed to tight\n",
      "  self._figure.tight_layout(*args, **kwargs)\n"
     ]
    },
    {
     "data": {
      "image/png": "[encoded data removed]",
      "text/plain": [
       "<Figure size 540x540 with 12 Axes>"
      ]
     },
     "metadata": {},
     "output_type": "display_data"
    }
   ],
   "source": [
    "# Create a pairplot to visualize pairwise relationships between variables in the data\n",
    "sns.pairplot(df2[['fare_amount', 'mean_duration', 'mean_distance']],\n",
    "             plot_kws={'alpha':0.4, 'size':5},\n",
    "             );"
   ]
  },
  {
   "cell_type": "markdown",
   "metadata": {},
   "source": [
    "These variables all show linear correlation with each other. Investigate this further."
   ]
  },
  {
   "cell_type": "markdown",
   "metadata": {},
   "source": [
    "### Task 7. Identify correlations"
   ]
  },
  {
   "cell_type": "markdown",
   "metadata": {},
   "source": [
    "Next, code a correlation matrix to help determine most correlated variables."
   ]
  },
  {
   "cell_type": "code",
   "execution_count": 60,
   "metadata": {},
   "outputs": [
    {
     "data": {
      "text/html": [
       "<div>\n",
       "<style scoped>\n",
       "    .dataframe tbody tr th:only-of-type {\n",
       "        vertical-align: middle;\n",
       "    }\n",
       "\n",
       "    .dataframe tbody tr th {\n",
       "        vertical-align: top;\n",
       "    }\n",
       "\n",
       "    .dataframe thead th {\n",
       "        text-align: right;\n",
       "    }\n",
       "</style>\n",
       "<table border=\"1\" class=\"dataframe\">\n",
       "  <thead>\n",
       "    <tr style=\"text-align: right;\">\n",
       "      <th></th>\n",
       "      <th>VendorID</th>\n",
       "      <th>passenger_count</th>\n",
       "      <th>fare_amount</th>\n",
       "      <th>mean_distance</th>\n",
       "      <th>mean_duration</th>\n",
       "      <th>rush_hour</th>\n",
       "    </tr>\n",
       "  </thead>\n",
       "  <tbody>\n",
       "    <tr>\n",
       "      <th>VendorID</th>\n",
       "      <td>1.000000</td>\n",
       "      <td>0.266463</td>\n",
       "      <td>0.001045</td>\n",
       "      <td>0.004741</td>\n",
       "      <td>0.001876</td>\n",
       "      <td>-0.002874</td>\n",
       "    </tr>\n",
       "    <tr>\n",
       "      <th>passenger_count</th>\n",
       "      <td>0.266463</td>\n",
       "      <td>1.000000</td>\n",
       "      <td>0.014942</td>\n",
       "      <td>0.013428</td>\n",
       "      <td>0.015852</td>\n",
       "      <td>-0.022035</td>\n",
       "    </tr>\n",
       "    <tr>\n",
       "      <th>fare_amount</th>\n",
       "      <td>0.001045</td>\n",
       "      <td>0.014942</td>\n",
       "      <td>1.000000</td>\n",
       "      <td>0.910185</td>\n",
       "      <td>0.859105</td>\n",
       "      <td>-0.020075</td>\n",
       "    </tr>\n",
       "    <tr>\n",
       "      <th>mean_distance</th>\n",
       "      <td>0.004741</td>\n",
       "      <td>0.013428</td>\n",
       "      <td>0.910185</td>\n",
       "      <td>1.000000</td>\n",
       "      <td>0.874864</td>\n",
       "      <td>-0.039725</td>\n",
       "    </tr>\n",
       "    <tr>\n",
       "      <th>mean_duration</th>\n",
       "      <td>0.001876</td>\n",
       "      <td>0.015852</td>\n",
       "      <td>0.859105</td>\n",
       "      <td>0.874864</td>\n",
       "      <td>1.000000</td>\n",
       "      <td>-0.021583</td>\n",
       "    </tr>\n",
       "    <tr>\n",
       "      <th>rush_hour</th>\n",
       "      <td>-0.002874</td>\n",
       "      <td>-0.022035</td>\n",
       "      <td>-0.020075</td>\n",
       "      <td>-0.039725</td>\n",
       "      <td>-0.021583</td>\n",
       "      <td>1.000000</td>\n",
       "    </tr>\n",
       "  </tbody>\n",
       "</table>\n",
       "</div>"
      ],
      "text/plain": [
       "                 VendorID  passenger_count  fare_amount  mean_distance  \\\n",
       "VendorID         1.000000         0.266463     0.001045       0.004741   \n",
       "passenger_count  0.266463         1.000000     0.014942       0.013428   \n",
       "fare_amount      0.001045         0.014942     1.000000       0.910185   \n",
       "mean_distance    0.004741         0.013428     0.910185       1.000000   \n",
       "mean_duration    0.001876         0.015852     0.859105       0.874864   \n",
       "rush_hour       -0.002874        -0.022035    -0.020075      -0.039725   \n",
       "\n",
       "                 mean_duration  rush_hour  \n",
       "VendorID              0.001876  -0.002874  \n",
       "passenger_count       0.015852  -0.022035  \n",
       "fare_amount           0.859105  -0.020075  \n",
       "mean_distance         0.874864  -0.039725  \n",
       "mean_duration         1.000000  -0.021583  \n",
       "rush_hour            -0.021583   1.000000  "
      ]
     },
     "execution_count": 60,
     "metadata": {},
     "output_type": "execute_result"
    }
   ],
   "source": [
    "# Correlation matrix to help determine most correlated variables\n",
    "df2.corr(method='pearson')"
   ]
  },
  {
   "cell_type": "markdown",
   "metadata": {},
   "source": [
    "Visualize a correlation heatmap of the data."
   ]
  },
  {
   "cell_type": "code",
   "execution_count": 61,
   "metadata": {},
   "outputs": [
    {
     "data": {
      "image/png": "[encoded data removed]",
      "text/plain": [
       "<Figure size 432x288 with 2 Axes>"
      ]
     },
     "metadata": {},
     "output_type": "display_data"
    }
   ],
   "source": [
    "# Create correlation heatmap\n",
    "\n",
    "plt.figure(figsize=(6,4))\n",
    "sns.heatmap(df2.corr(method='pearson'), annot=True, cmap='Reds')\n",
    "plt.title('Correlation heatmap',\n",
    "          fontsize=18)\n",
    "plt.show()"
   ]
  },
  {
   "cell_type": "markdown",
   "metadata": {},
   "source": [
    "**Question:** Which variable(s) are correlated with the target variable of `fare_amount`? \n",
    "\n",
    "Try modeling with both variables even though they are correlated."
   ]
  },
  {
   "cell_type": "markdown",
   "metadata": {},
   "source": [
    "Given the scenario, we have two predictor variables, mean_duration and mean_distance, which are both highly correlated with the target variable, fare_amount, and with each other. Here's a strategy to handle this situation:\n",
    "\n",
    "Key Points to Address:\n",
    "Multicollinearity Concerns:\n",
    "\n",
    "Multicollinearity can inflate the variance of the coefficient estimates, making them unstable and harder to interpret.\n",
    "However, since the primary goal is prediction rather than interpretation, multicollinearity may be less of a concern if it improves the predictive performance.\n",
    "Modeling Strategy:\n",
    "\n",
    "Include both variables (mean_duration and mean_distance) in the regression model to see how they contribute to predicting fare_amount.\n",
    "Use techniques such as Ridge or Lasso regression to handle multicollinearity if necessary. These regularization methods can help mitigate the impact of multicollinearity by adding a penalty term to the regression.\n",
    "Evaluate Model Performance:\n",
    "\n",
    "Use cross-validation to assess how well the model with both predictors performs in predicting fare_amount.\n",
    "Compare this model’s performance with simpler models (e.g., using only mean_duration or only mean_distance).\n",
    "Feature Importance and Selection:\n",
    "\n",
    "Analyze the coefficients and their stability across different models.\n",
    "Check if dropping one of the correlated variables significantly affects the predictive power.\n",
    "Practical Steps to Implement:\n",
    "Create the Model:\n",
    "\n",
    "Start with a basic multiple linear regression model including both mean_duration and mean_distance.\n",
    "Evaluate Multicollinearity:\n",
    "\n",
    "Calculate the Variance Inflation Factor (VIF) for each predictor to quantify the level of multicollinearity.\n",
    "If VIF values are high (typically above 5 or 10), it indicates significant multicollinearity.\n",
    "Regularization Methods:\n",
    "\n",
    "Implement Ridge and Lasso regression to see if they improve model performance and help manage multicollinearity.\n",
    "Model Comparison:\n",
    "\n",
    "Compare the performance of the multiple linear regression model with Ridge and Lasso regression models.\n",
    "Use metrics such as R-squared, Mean Absolute Error (MAE), and Root Mean Square Error (RMSE) to evaluate and compare models.\n",
    "Cross-Validation:\n",
    "\n",
    "Use cross-validation to ensure the robustness of your model’s predictive performance."
   ]
  },
  {
   "cell_type": "markdown",
   "metadata": {},
   "source": []
  },
  {
   "cell_type": "markdown",
   "metadata": {
    "id": "lgPul2DiY6T4"
   },
   "source": [
    "<img src=\"images/Construct.png\" width=\"100\" height=\"100\" align=left>\n",
    "\n",
    "## PACE: **Construct**\n",
    "\n",
    "After analysis and deriving variables with close relationships, it is time to begin constructing the model. Consider the questions in your PACE Strategy Document to reflect on the Construct stage.\n"
   ]
  },
  {
   "cell_type": "markdown",
   "metadata": {
    "id": "P_QYzJfVUrIc"
   },
   "source": [
    "### Task 8a. Split data into outcome variable and features"
   ]
  },
  {
   "cell_type": "code",
   "execution_count": 64,
   "metadata": {
    "id": "AzcDgLRET4d7"
   },
   "outputs": [
    {
     "name": "stdout",
     "output_type": "stream",
     "text": [
      "<class 'pandas.core.frame.DataFrame'>\n",
      "RangeIndex: 22699 entries, 0 to 22698\n",
      "Data columns (total 6 columns):\n",
      " #   Column           Non-Null Count  Dtype  \n",
      "---  ------           --------------  -----  \n",
      " 0   VendorID         22699 non-null  int64  \n",
      " 1   passenger_count  22699 non-null  int64  \n",
      " 2   fare_amount      22699 non-null  float64\n",
      " 3   mean_distance    22699 non-null  float64\n",
      " 4   mean_duration    22699 non-null  float64\n",
      " 5   rush_hour        22699 non-null  int64  \n",
      "dtypes: float64(3), int64(3)\n",
      "memory usage: 1.0 MB\n"
     ]
    }
   ],
   "source": [
    "\n",
    "df2.info()\n"
   ]
  },
  {
   "cell_type": "markdown",
   "metadata": {},
   "source": [
    "Set your X and y variables. X represents the features and y represents the outcome (target) variable."
   ]
  },
  {
   "cell_type": "code",
   "execution_count": 65,
   "metadata": {},
   "outputs": [
    {
     "data": {
      "text/html": [
       "<div>\n",
       "<style scoped>\n",
       "    .dataframe tbody tr th:only-of-type {\n",
       "        vertical-align: middle;\n",
       "    }\n",
       "\n",
       "    .dataframe tbody tr th {\n",
       "        vertical-align: top;\n",
       "    }\n",
       "\n",
       "    .dataframe thead th {\n",
       "        text-align: right;\n",
       "    }\n",
       "</style>\n",
       "<table border=\"1\" class=\"dataframe\">\n",
       "  <thead>\n",
       "    <tr style=\"text-align: right;\">\n",
       "      <th></th>\n",
       "      <th>VendorID</th>\n",
       "      <th>passenger_count</th>\n",
       "      <th>mean_distance</th>\n",
       "      <th>mean_duration</th>\n",
       "      <th>rush_hour</th>\n",
       "    </tr>\n",
       "  </thead>\n",
       "  <tbody>\n",
       "    <tr>\n",
       "      <th>0</th>\n",
       "      <td>2</td>\n",
       "      <td>6</td>\n",
       "      <td>3.521667</td>\n",
       "      <td>22.847222</td>\n",
       "      <td>0</td>\n",
       "    </tr>\n",
       "    <tr>\n",
       "      <th>1</th>\n",
       "      <td>1</td>\n",
       "      <td>1</td>\n",
       "      <td>3.108889</td>\n",
       "      <td>24.470370</td>\n",
       "      <td>0</td>\n",
       "    </tr>\n",
       "    <tr>\n",
       "      <th>2</th>\n",
       "      <td>1</td>\n",
       "      <td>1</td>\n",
       "      <td>0.881429</td>\n",
       "      <td>7.250000</td>\n",
       "      <td>1</td>\n",
       "    </tr>\n",
       "    <tr>\n",
       "      <th>3</th>\n",
       "      <td>2</td>\n",
       "      <td>1</td>\n",
       "      <td>3.700000</td>\n",
       "      <td>30.250000</td>\n",
       "      <td>0</td>\n",
       "    </tr>\n",
       "    <tr>\n",
       "      <th>4</th>\n",
       "      <td>2</td>\n",
       "      <td>1</td>\n",
       "      <td>4.435000</td>\n",
       "      <td>14.616667</td>\n",
       "      <td>0</td>\n",
       "    </tr>\n",
       "  </tbody>\n",
       "</table>\n",
       "</div>"
      ],
      "text/plain": [
       "   VendorID  passenger_count  mean_distance  mean_duration  rush_hour\n",
       "0         2                6       3.521667      22.847222          0\n",
       "1         1                1       3.108889      24.470370          0\n",
       "2         1                1       0.881429       7.250000          1\n",
       "3         2                1       3.700000      30.250000          0\n",
       "4         2                1       4.435000      14.616667          0"
      ]
     },
     "execution_count": 65,
     "metadata": {},
     "output_type": "execute_result"
    }
   ],
   "source": [
    "# Remove the target column from the features\n",
    "X = df2.drop(columns=['fare_amount'])\n",
    "\n",
    "# Set y variable\n",
    "y = df2[['fare_amount']]\n",
    "\n",
    "# Display first few rows\n",
    "X.head()\n"
   ]
  },
  {
   "cell_type": "markdown",
   "metadata": {
    "id": "o3ArC_5xa7Oi"
   },
   "source": [
    "### Task 8b. Pre-process data\n"
   ]
  },
  {
   "cell_type": "markdown",
   "metadata": {
    "id": "PdfTaopCcbTj"
   },
   "source": [
    "Dummy encode categorical variables"
   ]
  },
  {
   "cell_type": "code",
   "execution_count": 66,
   "metadata": {
    "id": "4Y3T2poF28fP"
   },
   "outputs": [
    {
     "data": {
      "text/html": [
       "<div>\n",
       "<style scoped>\n",
       "    .dataframe tbody tr th:only-of-type {\n",
       "        vertical-align: middle;\n",
       "    }\n",
       "\n",
       "    .dataframe tbody tr th {\n",
       "        vertical-align: top;\n",
       "    }\n",
       "\n",
       "    .dataframe thead th {\n",
       "        text-align: right;\n",
       "    }\n",
       "</style>\n",
       "<table border=\"1\" class=\"dataframe\">\n",
       "  <thead>\n",
       "    <tr style=\"text-align: right;\">\n",
       "      <th></th>\n",
       "      <th>passenger_count</th>\n",
       "      <th>mean_distance</th>\n",
       "      <th>mean_duration</th>\n",
       "      <th>rush_hour</th>\n",
       "      <th>VendorID_2</th>\n",
       "    </tr>\n",
       "  </thead>\n",
       "  <tbody>\n",
       "    <tr>\n",
       "      <th>0</th>\n",
       "      <td>6</td>\n",
       "      <td>3.521667</td>\n",
       "      <td>22.847222</td>\n",
       "      <td>0</td>\n",
       "      <td>True</td>\n",
       "    </tr>\n",
       "    <tr>\n",
       "      <th>1</th>\n",
       "      <td>1</td>\n",
       "      <td>3.108889</td>\n",
       "      <td>24.470370</td>\n",
       "      <td>0</td>\n",
       "      <td>False</td>\n",
       "    </tr>\n",
       "    <tr>\n",
       "      <th>2</th>\n",
       "      <td>1</td>\n",
       "      <td>0.881429</td>\n",
       "      <td>7.250000</td>\n",
       "      <td>1</td>\n",
       "      <td>False</td>\n",
       "    </tr>\n",
       "    <tr>\n",
       "      <th>3</th>\n",
       "      <td>1</td>\n",
       "      <td>3.700000</td>\n",
       "      <td>30.250000</td>\n",
       "      <td>0</td>\n",
       "      <td>True</td>\n",
       "    </tr>\n",
       "    <tr>\n",
       "      <th>4</th>\n",
       "      <td>1</td>\n",
       "      <td>4.435000</td>\n",
       "      <td>14.616667</td>\n",
       "      <td>0</td>\n",
       "      <td>True</td>\n",
       "    </tr>\n",
       "  </tbody>\n",
       "</table>\n",
       "</div>"
      ],
      "text/plain": [
       "   passenger_count  mean_distance  mean_duration  rush_hour  VendorID_2\n",
       "0                6       3.521667      22.847222          0        True\n",
       "1                1       3.108889      24.470370          0       False\n",
       "2                1       0.881429       7.250000          1       False\n",
       "3                1       3.700000      30.250000          0        True\n",
       "4                1       4.435000      14.616667          0        True"
      ]
     },
     "execution_count": 66,
     "metadata": {},
     "output_type": "execute_result"
    }
   ],
   "source": [
    "# Convert VendorID to string\n",
    "X['VendorID'] = X['VendorID'].astype(str)\n",
    "\n",
    "# Get dummies\n",
    "X = pd.get_dummies(X, drop_first=True)\n",
    "X.head()"
   ]
  },
  {
   "cell_type": "markdown",
   "metadata": {},
   "source": [
    "### Split data into training and test sets"
   ]
  },
  {
   "cell_type": "markdown",
   "metadata": {},
   "source": [
    "Create training and testing sets. The test set should contain 20% of the total samples. Set `random_state=0`."
   ]
  },
  {
   "cell_type": "code",
   "execution_count": 68,
   "metadata": {
    "id": "A2BNUvacwaZY"
   },
   "outputs": [],
   "source": [
    "# Create training and testing sets\n",
    "X_train, X_test, y_train, y_test = train_test_split(X, y, test_size=0.2, random_state=0)\n"
   ]
  },
  {
   "cell_type": "markdown",
   "metadata": {
    "id": "iDYyjWssbnBG"
   },
   "source": [
    "### Standardize the data\n",
    "\n",
    "Use `StandardScaler()`, `fit()`, and `transform()` to standardize the `X_train` variables. Assign the results to a variable called `X_train_scaled`."
   ]
  },
  {
   "cell_type": "code",
   "execution_count": 69,
   "metadata": {},
   "outputs": [
    {
     "name": "stdout",
     "output_type": "stream",
     "text": [
      "X_train scaled: [[-0.50301524  0.8694684   0.17616665 -0.64893329  0.89286563]\n",
      " [-0.50301524 -0.60011281 -0.69829589  1.54099045  0.89286563]\n",
      " [ 0.27331093 -0.47829156 -0.57301906 -0.64893329 -1.11998936]\n",
      " ...\n",
      " [-0.50301524 -0.45121122 -0.6788917  -0.64893329 -1.11998936]\n",
      " [-0.50301524 -0.58944763 -0.85743597  1.54099045 -1.11998936]\n",
      " [ 1.82596329  0.83673851  1.13212101 -0.64893329  0.89286563]]\n"
     ]
    }
   ],
   "source": [
    "# Standardize the X variables\n",
    "scaler = StandardScaler().fit(X_train)\n",
    "X_train_scaled = scaler.transform(X_train)\n",
    "print('X_train scaled:', X_train_scaled)"
   ]
  },
  {
   "cell_type": "markdown",
   "metadata": {
    "id": "wk0rjKeO3JLv"
   },
   "source": [
    "### Fit the model\n",
    "\n",
    "Instantiate your model and fit it to the training data."
   ]
  },
  {
   "cell_type": "code",
   "execution_count": 70,
   "metadata": {
    "id": "SClNm5hWotj6"
   },
   "outputs": [
    {
     "data": {
      "text/html": [
       "<style>#sk-container-id-1 {color: black;}#sk-container-id-1 pre{padding: 0;}#sk-container-id-1 div.sk-toggleable {background-color: white;}#sk-container-id-1 label.sk-toggleable__label {cursor: pointer;display: block;width: 100%;margin-bottom: 0;padding: 0.3em;box-sizing: border-box;text-align: center;}#sk-container-id-1 label.sk-toggleable__label-arrow:before {content: \"▸\";float: left;margin-right: 0.25em;color: #696969;}#sk-container-id-1 label.sk-toggleable__label-arrow:hover:before {color: black;}#sk-container-id-1 div.sk-estimator:hover label.sk-toggleable__label-arrow:before {color: black;}#sk-container-id-1 div.sk-toggleable__content {max-height: 0;max-width: 0;overflow: hidden;text-align: left;background-color: #f0f8ff;}#sk-container-id-1 div.sk-toggleable__content pre {margin: 0.2em;color: black;border-radius: 0.25em;background-color: #f0f8ff;}#sk-container-id-1 input.sk-toggleable__control:checked~div.sk-toggleable__content {max-height: 200px;max-width: 100%;overflow: auto;}#sk-container-id-1 input.sk-toggleable__control:checked~label.sk-toggleable__label-arrow:before {content: \"▾\";}#sk-container-id-1 div.sk-estimator input.sk-toggleable__control:checked~label.sk-toggleable__label {background-color: #d4ebff;}#sk-container-id-1 div.sk-label input.sk-toggleable__control:checked~label.sk-toggleable__label {background-color: #d4ebff;}#sk-container-id-1 input.sk-hidden--visually {border: 0;clip: rect(1px 1px 1px 1px);clip: rect(1px, 1px, 1px, 1px);height: 1px;margin: -1px;overflow: hidden;padding: 0;position: absolute;width: 1px;}#sk-container-id-1 div.sk-estimator {font-family: monospace;background-color: #f0f8ff;border: 1px dotted black;border-radius: 0.25em;box-sizing: border-box;margin-bottom: 0.5em;}#sk-container-id-1 div.sk-estimator:hover {background-color: #d4ebff;}#sk-container-id-1 div.sk-parallel-item::after {content: \"\";width: 100%;border-bottom: 1px solid gray;flex-grow: 1;}#sk-container-id-1 div.sk-label:hover label.sk-toggleable__label {background-color: #d4ebff;}#sk-container-id-1 div.sk-serial::before {content: \"\";position: absolute;border-left: 1px solid gray;box-sizing: border-box;top: 0;bottom: 0;left: 50%;z-index: 0;}#sk-container-id-1 div.sk-serial {display: flex;flex-direction: column;align-items: center;background-color: white;padding-right: 0.2em;padding-left: 0.2em;position: relative;}#sk-container-id-1 div.sk-item {position: relative;z-index: 1;}#sk-container-id-1 div.sk-parallel {display: flex;align-items: stretch;justify-content: center;background-color: white;position: relative;}#sk-container-id-1 div.sk-item::before, #sk-container-id-1 div.sk-parallel-item::before {content: \"\";position: absolute;border-left: 1px solid gray;box-sizing: border-box;top: 0;bottom: 0;left: 50%;z-index: -1;}#sk-container-id-1 div.sk-parallel-item {display: flex;flex-direction: column;z-index: 1;position: relative;background-color: white;}#sk-container-id-1 div.sk-parallel-item:first-child::after {align-self: flex-end;width: 50%;}#sk-container-id-1 div.sk-parallel-item:last-child::after {align-self: flex-start;width: 50%;}#sk-container-id-1 div.sk-parallel-item:only-child::after {width: 0;}#sk-container-id-1 div.sk-dashed-wrapped {border: 1px dashed gray;margin: 0 0.4em 0.5em 0.4em;box-sizing: border-box;padding-bottom: 0.4em;background-color: white;}#sk-container-id-1 div.sk-label label {font-family: monospace;font-weight: bold;display: inline-block;line-height: 1.2em;}#sk-container-id-1 div.sk-label-container {text-align: center;}#sk-container-id-1 div.sk-container {/* jupyter's `normalize.less` sets `[hidden] { display: none; }` but bootstrap.min.css set `[hidden] { display: none !important; }` so we also need the `!important` here to be able to override the default hidden behavior on the sphinx rendered scikit-learn.org. See: https://github.com/scikit-learn/scikit-learn/issues/21755 */display: inline-block !important;position: relative;}#sk-container-id-1 div.sk-text-repr-fallback {display: none;}</style><div id=\"sk-container-id-1\" class=\"sk-top-container\"><div class=\"sk-text-repr-fallback\"><pre>LinearRegression()</pre><b>In a Jupyter environment, please rerun this cell to show the HTML representation or trust the notebook. <br />On GitHub, the HTML representation is unable to render, please try loading this page with nbviewer.org.</b></div><div class=\"sk-container\" hidden><div class=\"sk-item\"><div class=\"sk-estimator sk-toggleable\"><input class=\"sk-toggleable__control sk-hidden--visually\" id=\"sk-estimator-id-1\" type=\"checkbox\" checked><label for=\"sk-estimator-id-1\" class=\"sk-toggleable__label sk-toggleable__label-arrow\">LinearRegression</label><div class=\"sk-toggleable__content\"><pre>LinearRegression()</pre></div></div></div></div></div>"
      ],
      "text/plain": [
       "LinearRegression()"
      ]
     },
     "execution_count": 70,
     "metadata": {},
     "output_type": "execute_result"
    }
   ],
   "source": [
    "# Fit your model to the training data\n",
    "lr=LinearRegression()\n",
    "lr.fit(X_train_scaled, y_train)"
   ]
  },
  {
   "cell_type": "markdown",
   "metadata": {
    "id": "HMj6QkK1cLmS"
   },
   "source": [
    "### Task 8c. Evaluate model"
   ]
  },
  {
   "cell_type": "markdown",
   "metadata": {
    "id": "AromLx7t5hjt"
   },
   "source": [
    "### Train data\n",
    "\n",
    "Evaluate your model performance by calculating the residual sum of squares and the explained variance score (R^2). Calculate the Mean Absolute Error, Mean Squared Error, and the Root Mean Squared Error."
   ]
  },
  {
   "cell_type": "code",
   "execution_count": 71,
   "metadata": {
    "id": "33rE1x9e3U6t"
   },
   "outputs": [
    {
     "name": "stdout",
     "output_type": "stream",
     "text": [
      "Coefficient of determination: 0.8398434585044773\n",
      "R^2: 0.8398434585044773\n",
      "MAE: 2.1866664167754144\n",
      "MSE: 17.88973296349268\n",
      "RMSE: 4.229625629236313\n"
     ]
    }
   ],
   "source": [
    "# Evaluate the model performance on the training data\n",
    "r_sq = lr.score(X_train_scaled, y_train)\n",
    "print('Coefficient of determination:', r_sq)\n",
    "y_pred_train = lr.predict(X_train_scaled)\n",
    "print('R^2:', r2_score(y_train, y_pred_train))\n",
    "print('MAE:', mean_absolute_error(y_train, y_pred_train))\n",
    "print('MSE:', mean_squared_error(y_train, y_pred_train))\n",
    "print('RMSE:',np.sqrt(mean_squared_error(y_train, y_pred_train)))"
   ]
  },
  {
   "cell_type": "markdown",
   "metadata": {},
   "source": [
    "### Test data\n",
    "\n",
    "Calculate the same metrics on the test data. Remember to scale the `X_test` data using the scaler that was fit to the training data. Do not refit the scaler to the testing data, just transform it. Call the results `X_test_scaled`."
   ]
  },
  {
   "cell_type": "code",
   "execution_count": 72,
   "metadata": {},
   "outputs": [],
   "source": [
    "# Scale the X_test data\n",
    "X_test_scaled = scaler.transform(X_test)"
   ]
  },
  {
   "cell_type": "code",
   "execution_count": 73,
   "metadata": {
    "id": "P5nXSpRCVXq6"
   },
   "outputs": [
    {
     "name": "stdout",
     "output_type": "stream",
     "text": [
      "Coefficient of determination: 0.8682583641795454\n",
      "R^2: 0.8682583641795454\n",
      "MAE: 2.1336549840593886\n",
      "MSE: 14.326454156998954\n",
      "RMSE: 3.7850302716093243\n"
     ]
    }
   ],
   "source": [
    "# Evaluate the model performance on the testing data\n",
    "### YOUR CODE HERE ###\n",
    "\n",
    "r_sq_test = lr.score(X_test_scaled, y_test)\n",
    "print('Coefficient of determination:', r_sq_test)\n",
    "y_pred_test = lr.predict(X_test_scaled)\n",
    "print('R^2:', r2_score(y_test, y_pred_test))\n",
    "print('MAE:', mean_absolute_error(y_test,y_pred_test))\n",
    "print('MSE:', mean_squared_error(y_test, y_pred_test))\n",
    "print('RMSE:',np.sqrt(mean_squared_error(y_test, y_pred_test)))"
   ]
  },
  {
   "cell_type": "markdown",
   "metadata": {
    "id": "L3MCKUhPJLi5"
   },
   "source": [
    "<img src=\"images/Execute.png\" width=\"100\" height=\"100\" align=left>\n",
    "\n",
    "## PACE: **Execute**\n",
    "\n",
    "Consider the questions in your PACE Strategy Document to reflect on the Execute stage."
   ]
  },
  {
   "cell_type": "markdown",
   "metadata": {
    "id": "F_l3bkxQdJ3a"
   },
   "source": [
    "### Task 9a. Results\n",
    "\n",
    "Use the code cell below to get `actual`,`predicted`, and `residual` for the testing set, and store them as columns in a `results` dataframe."
   ]
  },
  {
   "cell_type": "code",
   "execution_count": 74,
   "metadata": {
    "id": "cSl5gbXfBPBN"
   },
   "outputs": [
    {
     "data": {
      "text/html": [
       "<div>\n",
       "<style scoped>\n",
       "    .dataframe tbody tr th:only-of-type {\n",
       "        vertical-align: middle;\n",
       "    }\n",
       "\n",
       "    .dataframe tbody tr th {\n",
       "        vertical-align: top;\n",
       "    }\n",
       "\n",
       "    .dataframe thead th {\n",
       "        text-align: right;\n",
       "    }\n",
       "</style>\n",
       "<table border=\"1\" class=\"dataframe\">\n",
       "  <thead>\n",
       "    <tr style=\"text-align: right;\">\n",
       "      <th></th>\n",
       "      <th>actual</th>\n",
       "      <th>predicted</th>\n",
       "      <th>residual</th>\n",
       "    </tr>\n",
       "  </thead>\n",
       "  <tbody>\n",
       "    <tr>\n",
       "      <th>5818</th>\n",
       "      <td>14.0</td>\n",
       "      <td>12.356503</td>\n",
       "      <td>1.643497</td>\n",
       "    </tr>\n",
       "    <tr>\n",
       "      <th>18134</th>\n",
       "      <td>28.0</td>\n",
       "      <td>16.314595</td>\n",
       "      <td>11.685405</td>\n",
       "    </tr>\n",
       "    <tr>\n",
       "      <th>4655</th>\n",
       "      <td>5.5</td>\n",
       "      <td>6.726789</td>\n",
       "      <td>-1.226789</td>\n",
       "    </tr>\n",
       "    <tr>\n",
       "      <th>7378</th>\n",
       "      <td>15.5</td>\n",
       "      <td>16.227206</td>\n",
       "      <td>-0.727206</td>\n",
       "    </tr>\n",
       "    <tr>\n",
       "      <th>13914</th>\n",
       "      <td>9.5</td>\n",
       "      <td>10.536408</td>\n",
       "      <td>-1.036408</td>\n",
       "    </tr>\n",
       "  </tbody>\n",
       "</table>\n",
       "</div>"
      ],
      "text/plain": [
       "       actual  predicted   residual\n",
       "5818     14.0  12.356503   1.643497\n",
       "18134    28.0  16.314595  11.685405\n",
       "4655      5.5   6.726789  -1.226789\n",
       "7378     15.5  16.227206  -0.727206\n",
       "13914     9.5  10.536408  -1.036408"
      ]
     },
     "execution_count": 74,
     "metadata": {},
     "output_type": "execute_result"
    }
   ],
   "source": [
    "# Create a `results` dataframe\n",
    "results = pd.DataFrame(data={'actual': y_test['fare_amount'],\n",
    "                             'predicted': y_pred_test.ravel()})\n",
    "results['residual'] = results['actual'] - results['predicted']\n",
    "results.head()\n",
    "\n"
   ]
  },
  {
   "cell_type": "markdown",
   "metadata": {
    "id": "mwRmSDS3eyeH"
   },
   "source": [
    "### Task 9b. Visualize model results"
   ]
  },
  {
   "cell_type": "markdown",
   "metadata": {
    "id": "y3vQ-mB51dfd"
   },
   "source": [
    "Create a scatterplot to visualize `actual` vs. `predicted`."
   ]
  },
  {
   "cell_type": "code",
   "execution_count": 75,
   "metadata": {
    "id": "IBFU_dicBjwQ"
   },
   "outputs": [
    {
     "data": {
      "image/png": "[encoded data removed]",
      "text/plain": [
       "<Figure size 432x432 with 1 Axes>"
      ]
     },
     "metadata": {},
     "output_type": "display_data"
    }
   ],
   "source": [
    "# Create a scatterplot to visualize `predicted` over `actual`\n",
    "fig, ax = plt.subplots(figsize=(6, 6))\n",
    "sns.set(style='whitegrid')\n",
    "sns.scatterplot(x='actual',\n",
    "                y='predicted',\n",
    "                data=results,\n",
    "                s=20,\n",
    "                alpha=0.5,\n",
    "                ax=ax\n",
    ")\n",
    "# Draw an x=y line to show what the results would be if the model were perfect\n",
    "plt.plot([0,60], [0,60], c='red', linewidth=2)\n",
    "plt.title('Actual vs. predicted');"
   ]
  },
  {
   "cell_type": "markdown",
   "metadata": {
    "id": "IbO71S_R9IcY"
   },
   "source": [
    "Visualize the distribution of the `residuals` using a histogram."
   ]
  },
  {
   "cell_type": "code",
   "execution_count": 76,
   "metadata": {
    "id": "3a0UYoEr9Nx6"
   },
   "outputs": [
    {
     "data": {
      "image/png": "[encoded data removed]",
      "text/plain": [
       "<Figure size 432x288 with 1 Axes>"
      ]
     },
     "metadata": {},
     "output_type": "display_data"
    }
   ],
   "source": [
    "# Visualize the distribution of the `residuals`\n",
    "sns.histplot(results['residual'], bins=np.arange(-15,15.5,0.5))\n",
    "plt.title('Distribution of the residuals')\n",
    "plt.xlabel('residual value')\n",
    "plt.ylabel('count');\n",
    "\n"
   ]
  },
  {
   "cell_type": "code",
   "execution_count": 77,
   "metadata": {},
   "outputs": [
    {
     "data": {
      "text/plain": [
       "-0.015442621528680972"
      ]
     },
     "execution_count": 77,
     "metadata": {},
     "output_type": "execute_result"
    }
   ],
   "source": [
    "# Calculate residual mean\n",
    "results['residual'].mean()"
   ]
  },
  {
   "cell_type": "markdown",
   "metadata": {},
   "source": [
    "The distribution of the residuals is approximately normal and has a mean of -0.015. The residuals represent the variance in the outcome variable that is not explained by the model. A normal distribution around zero is good, as it demonstrates that the model's errors are evenly distributed and unbiased."
   ]
  },
  {
   "cell_type": "markdown",
   "metadata": {
    "id": "OCnELck-9h5M"
   },
   "source": [
    "Create a scatterplot of `residuals` over `predicted`."
   ]
  },
  {
   "cell_type": "code",
   "execution_count": 78,
   "metadata": {
    "id": "7Kmr2U8A95fY"
   },
   "outputs": [
    {
     "data": {
      "image/png": "[encoded data removed]",
      "text/plain": [
       "<Figure size 432x288 with 1 Axes>"
      ]
     },
     "metadata": {},
     "output_type": "display_data"
    }
   ],
   "source": [
    "# Create a scatterplot of `residuals` over `predicted`\n",
    "sns.scatterplot(x='predicted', y='residual', data=results)\n",
    "plt.axhline(0, c='red')\n",
    "plt.title('Scatterplot of residuals over predicted values')\n",
    "plt.xlabel('predicted value')\n",
    "plt.ylabel('residual value')\n",
    "plt.show()"
   ]
  },
  {
   "cell_type": "markdown",
   "metadata": {},
   "source": [
    "The model's residuals are evenly distributed above and below zero, with the exception of the sloping lines from the upper-left corner to the lower-right corner, which you know are the imputed maximum of \\\\$62.50 and the flat rate of \\\\$52 for JFK airport trips."
   ]
  },
  {
   "cell_type": "markdown",
   "metadata": {},
   "source": [
    "### Task 9c. Coefficients\n",
    "\n",
    "Use the `coef_` attribute to get the model's coefficients. The coefficients are output in the order of the features that were used to train the model. Which feature had the greatest effect on trip fare?"
   ]
  },
  {
   "cell_type": "code",
   "execution_count": 79,
   "metadata": {},
   "outputs": [
    {
     "data": {
      "text/html": [
       "<div>\n",
       "<style scoped>\n",
       "    .dataframe tbody tr th:only-of-type {\n",
       "        vertical-align: middle;\n",
       "    }\n",
       "\n",
       "    .dataframe tbody tr th {\n",
       "        vertical-align: top;\n",
       "    }\n",
       "\n",
       "    .dataframe thead th {\n",
       "        text-align: right;\n",
       "    }\n",
       "</style>\n",
       "<table border=\"1\" class=\"dataframe\">\n",
       "  <thead>\n",
       "    <tr style=\"text-align: right;\">\n",
       "      <th></th>\n",
       "      <th>passenger_count</th>\n",
       "      <th>mean_distance</th>\n",
       "      <th>mean_duration</th>\n",
       "      <th>rush_hour</th>\n",
       "      <th>VendorID_2</th>\n",
       "    </tr>\n",
       "  </thead>\n",
       "  <tbody>\n",
       "    <tr>\n",
       "      <th>0</th>\n",
       "      <td>0.030825</td>\n",
       "      <td>7.133867</td>\n",
       "      <td>2.812115</td>\n",
       "      <td>0.110233</td>\n",
       "      <td>-0.054373</td>\n",
       "    </tr>\n",
       "  </tbody>\n",
       "</table>\n",
       "</div>"
      ],
      "text/plain": [
       "   passenger_count  mean_distance  mean_duration  rush_hour  VendorID_2\n",
       "0         0.030825       7.133867       2.812115   0.110233   -0.054373"
      ]
     },
     "execution_count": 79,
     "metadata": {},
     "output_type": "execute_result"
    }
   ],
   "source": [
    "coefficients = pd.DataFrame(lr.coef_, columns=X.columns)\n",
    "coefficients"
   ]
  },
  {
   "cell_type": "markdown",
   "metadata": {},
   "source": [
    "What do these coefficients mean? How should they be interpreted?"
   ]
  },
  {
   "cell_type": "markdown",
   "metadata": {},
   "source": [
    "The coefficients reveal that `mean_distance` was the feature with the greatest weight in the model's final prediction. Be careful here! A common misinterpretation is that for every mile traveled, the fare amount increases by a mean of \\\\$7.13. This is incorrect. Remember, the data used to train the model was standardized with `StandardScaler()`. As such, the units are no longer miles. In other words, you cannot say \"for every mile traveled...\", as stated above. The correct interpretation of this coefficient is: controlling for other variables, *for every +1 change in standard deviation*, the fare amount increases by a mean of \\\\$7.13. \n",
    "\n",
    "Note also that because some highly correlated features were not removed, the confidence interval of this assessment is wider.\n",
    "\n",
    "So, translate this back to miles instead of standard deviation (i.e., unscale the data). "
   ]
  },
  {
   "cell_type": "markdown",
   "metadata": {
    "id": "P6AlDDyhdzmG"
   },
   "source": [
    "### Task 9d. Conclusion\n",
    "\n",
    "1. What are the key takeaways from this notebook?\n",
    "* Multiple linear regression is a powerful tool to estimate a dependent continous variable from several independent variables.\n",
    "* Exploratory data analysis is useful for selecting both numeric and categorical features for multiple linear regression.\n",
    "* Fitting multiple linear regression models may require trial and error to select variables that fit an accurate model while maintaining model assumptions (or not, depending on your use case).\n",
    "\n",
    "\n",
    "\n",
    "2. What results can be presented from this notebook?\n",
    "\n",
    "linear regression assumptions, and you can present the MAE and RMSE scores obtained from the model."
   ]
  },
  {
   "cell_type": "code",
   "execution_count": null,
   "metadata": {},
   "outputs": [],
   "source": []
  }
 ],
 "metadata": {
  "colab": {
   "provenance": [],
   "toc_visible": true
  },
  "kernelspec": {
   "display_name": "Python 3",
   "language": "python",
   "name": "python3"
  },
  "language_info": {
   "codemirror_mode": {
    "name": "ipython",
    "version": 3
   },
   "file_extension": ".py",
   "mimetype": "text/x-python",
   "name": "python",
   "nbconvert_exporter": "python",
   "pygments_lexer": "ipython3",
   "version": "3.11.5"
  }
 },
 "nbformat": 4,
 "nbformat_minor": 1
}
